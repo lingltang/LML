{
 "cells": [
  {
   "cell_type": "code",
   "execution_count": 3,
   "metadata": {
    "collapsed": true
   },
   "outputs": [],
   "source": [
    "import pandas as pd\n",
    "from datetime import datetime\n",
    "import numpy as np\n",
    "from matplotlib import pyplot as plt\n",
    "\n",
    "plt.rcParams['font.sans-serif']=['SimHei'] #用来正常显示中文标签\n",
    "plt.rcParams['axes.unicode_minus']=False #用来正常显示负号"
   ]
  },
  {
   "cell_type": "code",
   "execution_count": 3,
   "metadata": {},
   "outputs": [],
   "source": [
    "# 创建一个时间周期\n",
    "def createDayRange(startDay,number,freq='D'):\n",
    "    return pd.date_range(startDay, periods=number, freq=freq)\n",
    "# 转化文本到时间日\n",
    "def vtSTD(strdata:str)->pd.Period:\n",
    "    return pd.Period(strdata.split(' ')[0])\n",
    "# 转化文本到时间月\n",
    "def vtSTDM(strdata:str)->pd.Period:\n",
    "    return pd.Period(strdata.split(' ')[0],'M')\n",
    "# 转化文本到秒\n",
    "def vtSTDS(strData):\n",
    "    if strData==np.nan:\n",
    "        return np.nan\n",
    "    return pd.Timestamp(strData)\n",
    "# 获取某几列的数据类型\n",
    "def seeColsTypes(data,colList):\n",
    "    resdict = dict()\n",
    "    for i in colList:\n",
    "        resdict[i] = seeColTypes(data,i)\n",
    "    return resdict\n",
    "# 获取某一列的数据类型\n",
    "def seeColTypes(data,colname):\n",
    "    typesnum = dict()\n",
    "    for i in data[colname]:\n",
    "        typei = type(i)\n",
    "        if typei in typesnum.keys():\n",
    "            typesnum[typei] += 1\n",
    "            continue\n",
    "        typesnum[typei] = 0\n",
    "    return typesnum\n",
    "# 获取顺序数据类型统计\n",
    "def seeSeriesTypes(data):\n",
    "    typesnum = dict()\n",
    "    for i in data:\n",
    "        typei = type(i)\n",
    "        if typei in typesnum.keys():\n",
    "            typesnum[typei] += 1\n",
    "            continue\n",
    "        typesnum[typei] = 0\n",
    "    return typesnum\n",
    "\n",
    "def subtime(endTime:pd.Timestamp,startTime:pd.Timestamp,tla = 'm'):\n",
    "    endTime = endTime.to_numpy().astype(float)\n",
    "    startTime = startTime.to_numpy().astype(float)\n",
    "    tl = (endTime-startTime)/1000000000\n",
    "    if tla == 's':\n",
    "        return tl\n",
    "    if tla == 'm':\n",
    "        return tl/60\n",
    "    if tla == 'h':\n",
    "        return tl/3600\n",
    "    if tla == 'd':\n",
    "        return tl/86400\n",
    "    else:\n",
    "        return tl\n",
    "def getCycleData(data,startTime:pd.Timestamp,endTime:pd.Timestamp,timeLabel:str):\n",
    "    if endTime<=startTime:\n",
    "        return None\n",
    "    ress = data[timeLabel]>startTime\n",
    "    resd = data[timeLabel]<endTime\n",
    "    res = ress and resd\n",
    "    return data[res]"
   ]
  },
  {
   "cell_type": "code",
   "execution_count": 4,
   "metadata": {},
   "outputs": [],
   "source": [
    "path = r'C:\\Users\\ASUS\\Desktop\\Tx.xlsx'\n",
    "readname = ['设备编号', '报修编号', '故障等级', '发报人', '维修人', '受理人', '受理时间', '状态', '备注', '主键','维修人id', '受理人ID', '发报人id', '故障类编码', '故障分类ID', '派单时间', 'TOC报修中心', '报修中心','位置编号', '出厂编号', '报修人电话', '报修地点', '维修人电话', '已生成工单号', '报修信息', '非设备类报修','位置id', '报修人id', '等级说明', '报修评级', '评级理由', '是否转厂商', '是否委外', '厂商', '厂商名称','反馈方式', '反馈时间', '报修系统编码', '处理意见集合', '处理说明', '报修科室', '报修部门', '报修科室ID','报修部门ID', '责任科室', '责任部门', '责任科室id', '责任部门id', '委外单位', '委外单位名称','处理时间（分）', '报修时间', '到达现场时间', '故障排除时间', '故障时间（分）', '报修人', '位置', '设备系统','设备', '详细措施', '故障类', '报修处理情况', '修复状态', '移交时间', '报修描述', '报修类型']\n",
    "useData = [\"故障分类ID\",\"派单时间\",\"报修地点\",\"报修信息\",\"是否转厂商\",\"处理时间（分）\",\"报修时间\",\"到达现场时间\",\"故障排除时间\",\"故障时间（分）\",\"位置\",\"设备系统\",\"设备\",\"详细措施\",\"故障类\",\"报修处理情况\",\"修复状态\",\"移交时间\",\"报修描述\",\"报修类型\"]\n",
    "saveData = [\"状态\",\"故障类编码\",'设备编号','报修编号','故障等级','发报人','维修人','受理人','受理时间','备注','主键','维修人id','受理人ID','发报人id','TOC报修中心','报修中','位置编号','出厂编号','报修人电话','维修人电话','已生成工单号','非设备类报修','位置id','报修人id','等级说明','报修评级','评级理由','是否委外','厂商','厂商名称','反馈方式','反馈时间','报修系统编码','处理意见集合','处理说明','报修科室','报修部门','报修科室ID','报修部门ID','责任科室','责任部门','责任科室id','责任部门id','委外单位','委外单位名称','报修人']\n",
    "addData = []"
   ]
  },
  {
   "cell_type": "code",
   "execution_count": 5,
   "metadata": {},
   "outputs": [],
   "source": [
    "path = r'C:\\Users\\ASUS\\Desktop\\Tx.xlsx'\n",
    "timelable = ['受理时间','派单时间','报修时间','到达现场时间','故障排除时间']"
   ]
  },
  {
   "cell_type": "code",
   "execution_count": 6,
   "metadata": {},
   "outputs": [],
   "source": [
    "df_excel_basic = pd.read_excel(path,usecols=timelable)"
   ]
  },
  {
   "cell_type": "code",
   "execution_count": 7,
   "metadata": {},
   "outputs": [
    {
     "data": {
      "text/plain": "Index(['设备编号', '报修编号', '故障等级', '发报人', '维修人', '受理人', '受理时间', '状态', '备注', '主键',\n       '维修人id', '受理人ID', '发报人id', '故障类编码', '故障分类ID', '派单时间', 'TOC报修中心', '报修中心',\n       '位置编号', '出厂编号', '报修人电话', '报修地点', '维修人电话', '已生成工单号', '报修信息', '非设备类报修',\n       '位置id', '报修人id', '等级说明', '报修评级', '评级理由', '是否转厂商', '是否委外', '厂商', '厂商名称',\n       '反馈方式', '反馈时间', '报修系统编码', '处理意见集合', '处理说明', '报修科室', '报修部门', '报修科室ID',\n       '报修部门ID', '责任科室', '责任部门', '责任科室id', '责任部门id', '委外单位', '委外单位名称',\n       '处理时间（分）', '报修时间', '到达现场时间', '故障排除时间', '故障时间（分）', '报修人', '位置', '设备系统',\n       '设备', '详细措施', '故障类', '报修处理情况', '修复状态', '移交时间', '报修描述', '报修类型'],\n      dtype='object')"
     },
     "execution_count": 7,
     "metadata": {},
     "output_type": "execute_result"
    }
   ],
   "source": [
    "# 获取表头\n",
    "df_excel_basic = pd.read_excel(path)\n",
    "df_excel_basic.keys()"
   ]
  },
  {
   "cell_type": "code",
   "execution_count": 8,
   "metadata": {},
   "outputs": [],
   "source": [
    "# df_excel_use = df_excel_basic[timelable]"
   ]
  },
  {
   "cell_type": "code",
   "execution_count": 10,
   "metadata": {},
   "outputs": [],
   "source": [
    "# print(seeColTypes(df_excel_use,\"设备系统\"))\n",
    "# print(seeColTypes(df_excel_use,\"派单时间\"))"
   ]
  },
  {
   "cell_type": "code",
   "execution_count": 9,
   "metadata": {},
   "outputs": [],
   "source": [
    "# for i in df_excel_use['派单时间']:\n",
    "#     print(i)"
   ]
  },
  {
   "cell_type": "code",
   "execution_count": 12,
   "metadata": {},
   "outputs": [
    {
     "data": {
      "text/plain": [
       "Index(['受理时间', '派单时间', '报修时间', '到达现场时间', '故障排除时间'], dtype='object')"
      ]
     },
     "execution_count": 12,
     "metadata": {},
     "output_type": "execute_result"
    }
   ],
   "source": [
    "df_excel_basic.keys()"
   ]
  },
  {
   "cell_type": "code",
   "execution_count": 87,
   "metadata": {},
   "outputs": [],
   "source": [
    "# 业务流程\n",
    "# df_excel_basic['创建日期'] = df_excel_basic['报修时间'].apply(vtSTD)\n",
    "# df_excel_basic['月份'] = df_excel_basic['报修时间'].apply(vtSTDM)\n",
    "# df_excel_basic['实际时间(计算用)'] = df_excel_basic['报修时间'].apply(pd.Timestamp)"
   ]
  },
  {
   "cell_type": "code",
   "execution_count": 88,
   "metadata": {},
   "outputs": [],
   "source": [
    "# df_excel_basic['到场时间'] = subtime(df_excel_basic['到达现场时间'].apply(pd.Timestamp),df_excel_basic['报修时间'].apply(pd.Timestamp))\n",
    "# df_excel_basic['故障时间'] = subtime(df_excel_basic['故障排除时间'].apply(pd.Timestamp),df_excel_basic['报修时间'].apply(pd.Timestamp))"
   ]
  },
  {
   "cell_type": "code",
   "execution_count": null,
   "metadata": {},
   "outputs": [],
   "source": [
    "pd.Timestamp('2023-11-12')"
   ]
  },
  {
   "cell_type": "code",
   "execution_count": 91,
   "metadata": {},
   "outputs": [],
   "source": [
    "df_excel_basic.to_excel(r'C:\\Users\\ASUS\\Desktop\\out.xlsx',columns=useData)"
   ]
  },
  {
   "cell_type": "code",
   "execution_count": null,
   "metadata": {},
   "outputs": [],
   "source": [
    "# df_excel_basic[useData].isnull().sum()"
   ]
  },
  {
   "cell_type": "code",
   "execution_count": null,
   "metadata": {},
   "outputs": [],
   "source": [
    "df_class_sys = df_excel_basic['设备系统'].value_counts(dropna=False)"
   ]
  },
  {
   "cell_type": "code",
   "execution_count": null,
   "metadata": {},
   "outputs": [],
   "source": [
    "df_class_sys"
   ]
  },
  {
   "cell_type": "code",
   "execution_count": 301,
   "metadata": {},
   "outputs": [],
   "source": []
  },
  {
   "cell_type": "code",
   "execution_count": 108,
   "metadata": {},
   "outputs": [
    {
     "data": {
      "text/plain": [
       "0      2023-11-24 19:10:24\n",
       "1      2023-11-24 18:03:08\n",
       "2      2023-11-24 17:50:30\n",
       "3      2023-11-24 16:12:07\n",
       "4      2023-11-24 13:44:10\n",
       "              ...         \n",
       "398    2023-11-01 08:30:07\n",
       "399    2023-11-01 07:12:14\n",
       "400    2023-11-01 06:56:46\n",
       "401    2023-11-01 06:56:17\n",
       "402    2023-11-01 05:39:04\n",
       "Name: 派单时间, Length: 403, dtype: object"
      ]
     },
     "execution_count": 108,
     "metadata": {},
     "output_type": "execute_result"
    }
   ],
   "source": [
    "df_excel_basic['派单时间']"
   ]
  },
  {
   "cell_type": "code",
   "execution_count": 14,
   "metadata": {},
   "outputs": [
    {
     "data": {
      "text/plain": [
       "Timedelta('1 days 00:00:00')"
      ]
     },
     "execution_count": 14,
     "metadata": {},
     "output_type": "execute_result"
    }
   ],
   "source": [
    "pd.Timestamp('2023-11-12')-pd.Timestamp('2023-11-11')"
   ]
  },
  {
   "cell_type": "code",
   "execution_count": 112,
   "metadata": {},
   "outputs": [
    {
     "data": {
      "text/plain": [
       "{str: 342, float: 59}"
      ]
     },
     "execution_count": 112,
     "metadata": {},
     "output_type": "execute_result"
    }
   ],
   "source": [
    "seeColTypes(df_excel_basic,'派单时间')"
   ]
  },
  {
   "cell_type": "code",
   "execution_count": 113,
   "metadata": {},
   "outputs": [],
   "source": [
    "df_excel_tx = df_excel_basic['派单时间'].apply(vtSTDS)"
   ]
  },
  {
   "cell_type": "code",
   "execution_count": 118,
   "metadata": {},
   "outputs": [
    {
     "data": {
      "text/plain": [
       "{pandas._libs.tslibs.timestamps.Timestamp: 342,\n",
       " pandas._libs.tslibs.nattype.NaTType: 59}"
      ]
     },
     "execution_count": 118,
     "metadata": {},
     "output_type": "execute_result"
    }
   ],
   "source": [
    "seeSeriesTypes(df_excel_tx)"
   ]
  },
  {
   "cell_type": "code",
   "execution_count": 15,
   "metadata": {},
   "outputs": [
    {
     "ename": "TypeError",
     "evalue": "'>' not supported between instances of 'str' and 'Timestamp'",
     "output_type": "error",
     "traceback": [
      "\u001B[1;31m---------------------------------------------------------------------------\u001B[0m",
      "\u001B[1;31mTypeError\u001B[0m                                 Traceback (most recent call last)",
      "Cell \u001B[1;32mIn[15], line 1\u001B[0m\n\u001B[1;32m----> 1\u001B[0m \u001B[43mgetCycleData\u001B[49m\u001B[43m(\u001B[49m\u001B[43mdf_excel_basic\u001B[49m\u001B[43m,\u001B[49m\u001B[43mpd\u001B[49m\u001B[38;5;241;43m.\u001B[39;49m\u001B[43mTimestamp\u001B[49m\u001B[43m(\u001B[49m\u001B[38;5;124;43m'\u001B[39;49m\u001B[38;5;124;43m2023-11-12\u001B[39;49m\u001B[38;5;124;43m'\u001B[39;49m\u001B[43m)\u001B[49m\u001B[43m,\u001B[49m\u001B[43mpd\u001B[49m\u001B[38;5;241;43m.\u001B[39;49m\u001B[43mTimestamp\u001B[49m\u001B[43m(\u001B[49m\u001B[38;5;124;43m'\u001B[39;49m\u001B[38;5;124;43m2023-11-14\u001B[39;49m\u001B[38;5;124;43m'\u001B[39;49m\u001B[43m)\u001B[49m\u001B[43m,\u001B[49m\u001B[38;5;124;43m'\u001B[39;49m\u001B[38;5;124;43m报修时间\u001B[39;49m\u001B[38;5;124;43m'\u001B[39;49m\u001B[43m)\u001B[49m\n",
      "Cell \u001B[1;32mIn[2], line 59\u001B[0m, in \u001B[0;36mgetCycleData\u001B[1;34m(data, startTime, endTime, timeLabel)\u001B[0m\n\u001B[0;32m     57\u001B[0m \u001B[38;5;28;01mif\u001B[39;00m endTime\u001B[38;5;241m<\u001B[39m\u001B[38;5;241m=\u001B[39mstartTime:\n\u001B[0;32m     58\u001B[0m     \u001B[38;5;28;01mreturn\u001B[39;00m \u001B[38;5;28;01mNone\u001B[39;00m\n\u001B[1;32m---> 59\u001B[0m ress \u001B[38;5;241m=\u001B[39m \u001B[43mdata\u001B[49m\u001B[43m[\u001B[49m\u001B[43mtimeLabel\u001B[49m\u001B[43m]\u001B[49m\u001B[38;5;241;43m>\u001B[39;49m\u001B[43mstartTime\u001B[49m\n\u001B[0;32m     60\u001B[0m resd \u001B[38;5;241m=\u001B[39m data[timeLabel]\u001B[38;5;241m<\u001B[39mendTime\n\u001B[0;32m     61\u001B[0m res \u001B[38;5;241m=\u001B[39m ress \u001B[38;5;129;01mand\u001B[39;00m resd\n",
      "File \u001B[1;32mF:\\Code\\Inv\\Annaconda\\envs\\CJPDataAnalzyBasic\\lib\\site-packages\\pandas\\core\\ops\\common.py:81\u001B[0m, in \u001B[0;36m_unpack_zerodim_and_defer.<locals>.new_method\u001B[1;34m(self, other)\u001B[0m\n\u001B[0;32m     77\u001B[0m             \u001B[38;5;28;01mreturn\u001B[39;00m \u001B[38;5;28mNotImplemented\u001B[39m\n\u001B[0;32m     79\u001B[0m other \u001B[38;5;241m=\u001B[39m item_from_zerodim(other)\n\u001B[1;32m---> 81\u001B[0m \u001B[38;5;28;01mreturn\u001B[39;00m \u001B[43mmethod\u001B[49m\u001B[43m(\u001B[49m\u001B[38;5;28;43mself\u001B[39;49m\u001B[43m,\u001B[49m\u001B[43m \u001B[49m\u001B[43mother\u001B[49m\u001B[43m)\u001B[49m\n",
      "File \u001B[1;32mF:\\Code\\Inv\\Annaconda\\envs\\CJPDataAnalzyBasic\\lib\\site-packages\\pandas\\core\\arraylike.py:56\u001B[0m, in \u001B[0;36mOpsMixin.__gt__\u001B[1;34m(self, other)\u001B[0m\n\u001B[0;32m     54\u001B[0m \u001B[38;5;129m@unpack_zerodim_and_defer\u001B[39m(\u001B[38;5;124m\"\u001B[39m\u001B[38;5;124m__gt__\u001B[39m\u001B[38;5;124m\"\u001B[39m)\n\u001B[0;32m     55\u001B[0m \u001B[38;5;28;01mdef\u001B[39;00m \u001B[38;5;21m__gt__\u001B[39m(\u001B[38;5;28mself\u001B[39m, other):\n\u001B[1;32m---> 56\u001B[0m     \u001B[38;5;28;01mreturn\u001B[39;00m \u001B[38;5;28;43mself\u001B[39;49m\u001B[38;5;241;43m.\u001B[39;49m\u001B[43m_cmp_method\u001B[49m\u001B[43m(\u001B[49m\u001B[43mother\u001B[49m\u001B[43m,\u001B[49m\u001B[43m \u001B[49m\u001B[43moperator\u001B[49m\u001B[38;5;241;43m.\u001B[39;49m\u001B[43mgt\u001B[49m\u001B[43m)\u001B[49m\n",
      "File \u001B[1;32mF:\\Code\\Inv\\Annaconda\\envs\\CJPDataAnalzyBasic\\lib\\site-packages\\pandas\\core\\series.py:6096\u001B[0m, in \u001B[0;36mSeries._cmp_method\u001B[1;34m(self, other, op)\u001B[0m\n\u001B[0;32m   6093\u001B[0m rvalues \u001B[38;5;241m=\u001B[39m extract_array(other, extract_numpy\u001B[38;5;241m=\u001B[39m\u001B[38;5;28;01mTrue\u001B[39;00m, extract_range\u001B[38;5;241m=\u001B[39m\u001B[38;5;28;01mTrue\u001B[39;00m)\n\u001B[0;32m   6095\u001B[0m \u001B[38;5;28;01mwith\u001B[39;00m np\u001B[38;5;241m.\u001B[39merrstate(\u001B[38;5;28mall\u001B[39m\u001B[38;5;241m=\u001B[39m\u001B[38;5;124m\"\u001B[39m\u001B[38;5;124mignore\u001B[39m\u001B[38;5;124m\"\u001B[39m):\n\u001B[1;32m-> 6096\u001B[0m     res_values \u001B[38;5;241m=\u001B[39m \u001B[43mops\u001B[49m\u001B[38;5;241;43m.\u001B[39;49m\u001B[43mcomparison_op\u001B[49m\u001B[43m(\u001B[49m\u001B[43mlvalues\u001B[49m\u001B[43m,\u001B[49m\u001B[43m \u001B[49m\u001B[43mrvalues\u001B[49m\u001B[43m,\u001B[49m\u001B[43m \u001B[49m\u001B[43mop\u001B[49m\u001B[43m)\u001B[49m\n\u001B[0;32m   6098\u001B[0m \u001B[38;5;28;01mreturn\u001B[39;00m \u001B[38;5;28mself\u001B[39m\u001B[38;5;241m.\u001B[39m_construct_result(res_values, name\u001B[38;5;241m=\u001B[39mres_name)\n",
      "File \u001B[1;32mF:\\Code\\Inv\\Annaconda\\envs\\CJPDataAnalzyBasic\\lib\\site-packages\\pandas\\core\\ops\\array_ops.py:293\u001B[0m, in \u001B[0;36mcomparison_op\u001B[1;34m(left, right, op)\u001B[0m\n\u001B[0;32m    290\u001B[0m     \u001B[38;5;28;01mreturn\u001B[39;00m invalid_comparison(lvalues, rvalues, op)\n\u001B[0;32m    292\u001B[0m \u001B[38;5;28;01melif\u001B[39;00m is_object_dtype(lvalues\u001B[38;5;241m.\u001B[39mdtype) \u001B[38;5;129;01mor\u001B[39;00m \u001B[38;5;28misinstance\u001B[39m(rvalues, \u001B[38;5;28mstr\u001B[39m):\n\u001B[1;32m--> 293\u001B[0m     res_values \u001B[38;5;241m=\u001B[39m \u001B[43mcomp_method_OBJECT_ARRAY\u001B[49m\u001B[43m(\u001B[49m\u001B[43mop\u001B[49m\u001B[43m,\u001B[49m\u001B[43m \u001B[49m\u001B[43mlvalues\u001B[49m\u001B[43m,\u001B[49m\u001B[43m \u001B[49m\u001B[43mrvalues\u001B[49m\u001B[43m)\u001B[49m\n\u001B[0;32m    295\u001B[0m \u001B[38;5;28;01melse\u001B[39;00m:\n\u001B[0;32m    296\u001B[0m     res_values \u001B[38;5;241m=\u001B[39m _na_arithmetic_op(lvalues, rvalues, op, is_cmp\u001B[38;5;241m=\u001B[39m\u001B[38;5;28;01mTrue\u001B[39;00m)\n",
      "File \u001B[1;32mF:\\Code\\Inv\\Annaconda\\envs\\CJPDataAnalzyBasic\\lib\\site-packages\\pandas\\core\\ops\\array_ops.py:82\u001B[0m, in \u001B[0;36mcomp_method_OBJECT_ARRAY\u001B[1;34m(op, x, y)\u001B[0m\n\u001B[0;32m     80\u001B[0m     result \u001B[38;5;241m=\u001B[39m libops\u001B[38;5;241m.\u001B[39mvec_compare(x\u001B[38;5;241m.\u001B[39mravel(), y\u001B[38;5;241m.\u001B[39mravel(), op)\n\u001B[0;32m     81\u001B[0m \u001B[38;5;28;01melse\u001B[39;00m:\n\u001B[1;32m---> 82\u001B[0m     result \u001B[38;5;241m=\u001B[39m \u001B[43mlibops\u001B[49m\u001B[38;5;241;43m.\u001B[39;49m\u001B[43mscalar_compare\u001B[49m\u001B[43m(\u001B[49m\u001B[43mx\u001B[49m\u001B[38;5;241;43m.\u001B[39;49m\u001B[43mravel\u001B[49m\u001B[43m(\u001B[49m\u001B[43m)\u001B[49m\u001B[43m,\u001B[49m\u001B[43m \u001B[49m\u001B[43my\u001B[49m\u001B[43m,\u001B[49m\u001B[43m \u001B[49m\u001B[43mop\u001B[49m\u001B[43m)\u001B[49m\n\u001B[0;32m     83\u001B[0m \u001B[38;5;28;01mreturn\u001B[39;00m result\u001B[38;5;241m.\u001B[39mreshape(x\u001B[38;5;241m.\u001B[39mshape)\n",
      "File \u001B[1;32mF:\\Code\\Inv\\Annaconda\\envs\\CJPDataAnalzyBasic\\lib\\site-packages\\pandas\\_libs\\ops.pyx:107\u001B[0m, in \u001B[0;36mpandas._libs.ops.scalar_compare\u001B[1;34m()\u001B[0m\n",
      "\u001B[1;31mTypeError\u001B[0m: '>' not supported between instances of 'str' and 'Timestamp'"
     ]
    }
   ],
   "source": [
    "getCycleData(df_excel_basic,pd.Timestamp('2023-11-12'),pd.Timestamp('2023-11-14'),'报修时间')"
   ]
  },
  {
   "cell_type": "code",
   "execution_count": 8,
   "metadata": {},
   "outputs": [
    {
     "data": {
      "text/plain": "Index(['设备编号', '报修编号', '故障等级', '发报人', '维修人', '受理人', '受理时间', '状态', '备注', '主键',\n       '维修人id', '受理人ID', '发报人id', '故障类编码', '故障分类ID', '派单时间', 'TOC报修中心', '报修中心',\n       '位置编号', '出厂编号', '报修人电话', '报修地点', '维修人电话', '已生成工单号', '报修信息', '非设备类报修',\n       '位置id', '报修人id', '等级说明', '报修评级', '评级理由', '是否转厂商', '是否委外', '厂商', '厂商名称',\n       '反馈方式', '反馈时间', '报修系统编码', '处理意见集合', '处理说明', '报修科室', '报修部门', '报修科室ID',\n       '报修部门ID', '责任科室', '责任部门', '责任科室id', '责任部门id', '委外单位', '委外单位名称',\n       '处理时间（分）', '报修时间', '到达现场时间', '故障排除时间', '故障时间（分）', '报修人', '位置', '设备系统',\n       '设备', '详细措施', '故障类', '报修处理情况', '修复状态', '移交时间', '报修描述', '报修类型'],\n      dtype='object')"
     },
     "execution_count": 8,
     "metadata": {},
     "output_type": "execute_result"
    }
   ],
   "source": [
    "df_excel_basic.keys()"
   ]
  },
  {
   "cell_type": "code",
   "execution_count": 11,
   "outputs": [],
   "source": [
    "df_t1 = df_excel_basic[df_excel_basic['报修类型'] == '自查工单']\n",
    "df_t2 = df_t1[df_t1['维修人'] == '临港景鸿(T1)']"
   ],
   "metadata": {
    "collapsed": false
   }
  },
  {
   "cell_type": "code",
   "execution_count": 12,
   "outputs": [
    {
     "data": {
      "text/plain": "                设备编号 报修编号 故障等级  发报人       维修人  受理人 受理时间  状态   备注  \\\n32   02019902JD19262  NaN  等级三  NaN  临港景鸿(T1)  NaN  NaN  关闭  NaN   \n45   02019907JD22178  NaN  等级三  NaN  临港景鸿(T1)  NaN  NaN  关闭  NaN   \n59   02019914JD22134  NaN  等级三  NaN  临港景鸿(T1)  NaN  NaN  关闭  NaN   \n74   02019907JD21010  NaN  等级三  NaN  临港景鸿(T1)  NaN  NaN  关闭  NaN   \n81   13010799JD00003  NaN  等级三  NaN  临港景鸿(T1)  NaN  NaN  关闭  NaN   \n102  02019907JD21177  NaN  等级三  NaN  临港景鸿(T1)  NaN  NaN  关闭  NaN   \n111  02019907JD22103  NaN  等级三  NaN  临港景鸿(T1)  NaN  NaN  关闭  NaN   \n116  02019905JD19282  NaN  等级三  NaN  临港景鸿(T1)  NaN  NaN  关闭  NaN   \n162  02019905JD19677  NaN  等级三  NaN  临港景鸿(T1)  NaN  NaN  关闭  NaN   \n164  02019902JD18989  NaN  等级三  NaN  临港景鸿(T1)  NaN  NaN  关闭  NaN   \n174  02019907JD19366  NaN  等级三  NaN  临港景鸿(T1)  NaN  NaN  关闭  NaN   \n177  02019907JD21015  NaN  等级三  NaN  临港景鸿(T1)  NaN  NaN  关闭  NaN   \n187  02019905JD20924  NaN  等级三  NaN  临港景鸿(T1)  NaN  NaN  关闭  NaN   \n204  02019907JD22138  NaN  等级三  NaN  临港景鸿(T1)  NaN  NaN  关闭  NaN   \n250  02010104JD14514  NaN  等级三  NaN  临港景鸿(T1)  NaN  NaN  关闭  NaN   \n303  13010799JD00004  NaN  等级三  NaN  临港景鸿(T1)  NaN  NaN  关闭  NaN   \n329  13010799JD00005  NaN  等级三  NaN  临港景鸿(T1)  NaN  NaN  关闭  NaN   \n339  13010799JD00001  NaN  等级三  NaN  临港景鸿(T1)  NaN  NaN  关闭  NaN   \n344  02019907JD21438  NaN  等级三  NaN  临港景鸿(T1)  NaN  NaN  关闭  NaN   \n351  02019907JD21105  NaN  等级三  NaN  临港景鸿(T1)  NaN  NaN  关闭  NaN   \n356  02019914JD22461  NaN  等级三  NaN  临港景鸿(T1)  NaN  NaN  关闭  NaN   \n\n                    主键  ...                                  位置         设备系统  \\\n32   jxstar-516-179017  ...                    T1航站楼1层A楼区域T04柜台       T1航显系统   \n45   jxstar-894-178989  ...                 航站区T1航站楼2层B楼区域D01柜台  中航信离港系统(T1)   \n59   jxstar-713-178966  ...           T1航站楼A楼16.4米层  （A402 ）弱电间    T1出入口控制系统   \n74   jxstar-147-178936  ...                    T1航站楼2层A楼区域B02柜台  中航信离港系统(T1)   \n81   jxstar-105-178923  ...                            厦航自助值机区域  中航信离港系统(T1)   \n102  jxstar-423-178895  ...                    T1航站楼2层A楼区域B10柜台  中航信离港系统(T1)   \n111  jxstar-306-178887  ...                             D01值机柜台  中航信离港系统(T1)   \n116  jxstar-020-178877  ...                              #1Fa06     T1视频监控系统   \n162  jxstar-212-178798  ...                              #3Fa01     T1视频监控系统   \n164  jxstar-902-178799  ...                             D14值机柜台       T1航显系统   \n174  jxstar-404-178764  ...                    T1航站楼2层A楼区域B17柜台  中航信离港系统(T1)   \n177  jxstar-085-178763  ...                    T1航站楼2层A楼区域B07柜台  中航信离港系统(T1)   \n187  jxstar-861-178755  ...                          3楼安检SOC监控室     T1视频监控系统   \n204  jxstar-193-178685  ...  T1航站楼5.4米层5.4米层厦航贵宾室区域5.4米层厦航贵宾室区域  中航信离港系统(T1)   \n250  jxstar-639-178604  ...                   T1航站楼1层A楼区域登机口T03       T1航显系统   \n303  jxstar-722-178471  ...                            厦航自助值机区域  中航信离港系统(T1)   \n329  jxstar-688-178392  ...                            厦航自助值机区域  中航信离港系统(T1)   \n339  jxstar-808-178382  ...                            厦航自助值机区域  中航信离港系统(T1)   \n344  jxstar-399-178378  ...                             D04值机柜台  中航信离港系统(T1)   \n351  jxstar-499-178370  ...                    T1航站楼2层A楼区域B01柜台  中航信离港系统(T1)   \n356  jxstar-964-178368  ...            T1航站楼B楼5.4m层国际出发员工通道验证柜台    T1出入口控制系统   \n\n                 设备                                               详细措施  \\\n32              工控机  5:34 自查T04航显故障\\n5:46 后台配置工控机好到达现场\\n5:50 更换工控机修...   \n45              工作站  10:05 接报D01柜台网络故障\\n10:13 到达现场，发现现场网线坏，更换网线修复\\n...   \n59            门禁控制器                         门吸电锁灯不亮 破玻电源线对接后正常 更换破玻后恢复   \n74           KVM切换器  现场查看kvm切换器会时不时自动切换系统 判断kvm切换器卡死 拆下切换器放电后重新接上 设...   \n81           自助值机设备  7:14 自查发现厦航cuss  1-3故障\\n7:21 页面错误，重启工作站故障（维修人：...   \n102  键盘（带MSR和OCR键盘）                                    键盘按键无反应 插拔线路后恢复   \n111        护照身份证阅读器  到达查看设备 身份证扫描区域灯不亮 重新插拔线路无效 与旁边柜台好的设备更换查看依旧不亮 判...   \n116           IP摄像机                           摄像机无实时回放 网络正常 后台重启摄像头后恢复   \n162           IP摄像机                摄像机无实时回放 查看回放有间断 推测为电源适配器损坏 更换后恢复正常   \n164          OPS工控机              工控机无法开机 查看设备电源无故障 推测工控机系统有问题 更换工控机后恢复   \n174      登机牌及行李牌打印机  6:30 自查B17 打印机故障\\n行李条打印淡，打开发现打印头存在白点，更换打印机整机\\n...   \n177          KVM切换器  6:01 接报B07鼠标异常\\n6:07 到达现场，发现航信系统鼠标无法使用，切换至CUTE...   \n187           图像工作站  15:59接报soc电脑故障，\\n16:12到达，(indigo软件登入不了)，\\n16:2...   \n204          行李条打印机                             打印模糊白条 清理擦拭后不行更换打印机后恢复   \n250             工控机  9:50 自查T03右 T04右航显故障\\n软件卡死，联系后台，重启软件（维修人：朱骏）\\n...   \n303          自助值机设备                                   行李牌打印缺失 重启工作站后恢复   \n329          自助值机设备                        登机牌打印机用户装纸错误 导致无法打印 重新装纸后恢复   \n339          自助值机设备  6:49 接报厦航cuss1-1故障\\n6:56 到达现场，发现面板报错，打开柜台发现用户装...   \n344      离港工作站（显示器）  17:09接报D04网路故障 17:13到达现场 17:35 到达现场后查询电脑系统无异样 ...   \n351           离港工作站  11:49 接报b01电脑卡顿\\n11:51 到达现场\\n11:57 东航值机软件卡顿，重启...   \n356             工作站  8:02 接报安检三区身份证读卡器故障 \\n8:10 到达现场，软件退出，重启软件修复 \\n...   \n\n             故障类 报修处理情况  修复状态 移交时间              报修描述  报修类型  \n32         工控机故障     完成    修复  NaN           T04航显故障  自查工单  \n45          综合布线     完成    修复  NaN       D01柜台电脑网络故障  自查工单  \n59     破玻或出门按钮故障     完成    修复  NaN        V03贵宾室破玻故障  自查工单  \n74      KVM切换器故障     完成    修复  NaN     B02柜台KVM切换器故障  自查工单  \n81        自助值机故障     完成    修复  NaN        厦航cuss机1-3  自查工单  \n102  外设故障/外设线路松脱     完成    修复  NaN         B10柜台键盘故障  自查工单  \n111  外设故障/外设线路松脱     完成    修复  NaN  厦航高端值机柜台身份证阅读器故障  自查工单  \n116        摄像机故障     完成    修复  NaN     13507摄像头无实时回放  自查工单  \n162         电源故障     完成    修复  NaN     17883摄像头无实时回放  自查工单  \n164        工控机故障     完成    修复  NaN      D14航显工控机无法开机  自查工单  \n174      打印头硬件故障     完成    修复  NaN      B17 行李条打印机故障  自查工单  \n177  外设故障/外设线路松脱     完成    修复  NaN         B07  鼠标故障  自查工单  \n187   接口或服务器软件故障     完成    修复  NaN      soc cctv电脑故障  自查工单  \n204      打印头硬件故障     完成    修复  NaN      厦航高端值机区打印机故障  自查工单  \n250        工控机故障     完成    修复  NaN   自查T03右 T04右航显故障  自查工单  \n303         其他故障     完成    修复  NaN   厦航cuss1-4 2-4故障  自查工单  \n329         其他故障     完成    修复  NaN       厦航cuss1-2故障  自查工单  \n339     打印机粘纸、卡纸     完成    修复  NaN      厦航cuss 1-1故障  自查工单  \n344         网络故障     完成    修复  NaN           D04网路故障  自查工单  \n351  中航信离港系统软件故障     完成    修复  NaN       B01值机柜台电脑卡顿  自查工单  \n356        工作站故障     完成    修复  NaN      安检三区身份证读卡器故障  自查工单  \n\n[21 rows x 66 columns]",
      "text/html": "<div>\n<style scoped>\n    .dataframe tbody tr th:only-of-type {\n        vertical-align: middle;\n    }\n\n    .dataframe tbody tr th {\n        vertical-align: top;\n    }\n\n    .dataframe thead th {\n        text-align: right;\n    }\n</style>\n<table border=\"1\" class=\"dataframe\">\n  <thead>\n    <tr style=\"text-align: right;\">\n      <th></th>\n      <th>设备编号</th>\n      <th>报修编号</th>\n      <th>故障等级</th>\n      <th>发报人</th>\n      <th>维修人</th>\n      <th>受理人</th>\n      <th>受理时间</th>\n      <th>状态</th>\n      <th>备注</th>\n      <th>主键</th>\n      <th>...</th>\n      <th>位置</th>\n      <th>设备系统</th>\n      <th>设备</th>\n      <th>详细措施</th>\n      <th>故障类</th>\n      <th>报修处理情况</th>\n      <th>修复状态</th>\n      <th>移交时间</th>\n      <th>报修描述</th>\n      <th>报修类型</th>\n    </tr>\n  </thead>\n  <tbody>\n    <tr>\n      <th>32</th>\n      <td>02019902JD19262</td>\n      <td>NaN</td>\n      <td>等级三</td>\n      <td>NaN</td>\n      <td>临港景鸿(T1)</td>\n      <td>NaN</td>\n      <td>NaN</td>\n      <td>关闭</td>\n      <td>NaN</td>\n      <td>jxstar-516-179017</td>\n      <td>...</td>\n      <td>T1航站楼1层A楼区域T04柜台</td>\n      <td>T1航显系统</td>\n      <td>工控机</td>\n      <td>5:34 自查T04航显故障\\n5:46 后台配置工控机好到达现场\\n5:50 更换工控机修...</td>\n      <td>工控机故障</td>\n      <td>完成</td>\n      <td>修复</td>\n      <td>NaN</td>\n      <td>T04航显故障</td>\n      <td>自查工单</td>\n    </tr>\n    <tr>\n      <th>45</th>\n      <td>02019907JD22178</td>\n      <td>NaN</td>\n      <td>等级三</td>\n      <td>NaN</td>\n      <td>临港景鸿(T1)</td>\n      <td>NaN</td>\n      <td>NaN</td>\n      <td>关闭</td>\n      <td>NaN</td>\n      <td>jxstar-894-178989</td>\n      <td>...</td>\n      <td>航站区T1航站楼2层B楼区域D01柜台</td>\n      <td>中航信离港系统(T1)</td>\n      <td>工作站</td>\n      <td>10:05 接报D01柜台网络故障\\n10:13 到达现场，发现现场网线坏，更换网线修复\\n...</td>\n      <td>综合布线</td>\n      <td>完成</td>\n      <td>修复</td>\n      <td>NaN</td>\n      <td>D01柜台电脑网络故障</td>\n      <td>自查工单</td>\n    </tr>\n    <tr>\n      <th>59</th>\n      <td>02019914JD22134</td>\n      <td>NaN</td>\n      <td>等级三</td>\n      <td>NaN</td>\n      <td>临港景鸿(T1)</td>\n      <td>NaN</td>\n      <td>NaN</td>\n      <td>关闭</td>\n      <td>NaN</td>\n      <td>jxstar-713-178966</td>\n      <td>...</td>\n      <td>T1航站楼A楼16.4米层  （A402 ）弱电间</td>\n      <td>T1出入口控制系统</td>\n      <td>门禁控制器</td>\n      <td>门吸电锁灯不亮 破玻电源线对接后正常 更换破玻后恢复</td>\n      <td>破玻或出门按钮故障</td>\n      <td>完成</td>\n      <td>修复</td>\n      <td>NaN</td>\n      <td>V03贵宾室破玻故障</td>\n      <td>自查工单</td>\n    </tr>\n    <tr>\n      <th>74</th>\n      <td>02019907JD21010</td>\n      <td>NaN</td>\n      <td>等级三</td>\n      <td>NaN</td>\n      <td>临港景鸿(T1)</td>\n      <td>NaN</td>\n      <td>NaN</td>\n      <td>关闭</td>\n      <td>NaN</td>\n      <td>jxstar-147-178936</td>\n      <td>...</td>\n      <td>T1航站楼2层A楼区域B02柜台</td>\n      <td>中航信离港系统(T1)</td>\n      <td>KVM切换器</td>\n      <td>现场查看kvm切换器会时不时自动切换系统 判断kvm切换器卡死 拆下切换器放电后重新接上 设...</td>\n      <td>KVM切换器故障</td>\n      <td>完成</td>\n      <td>修复</td>\n      <td>NaN</td>\n      <td>B02柜台KVM切换器故障</td>\n      <td>自查工单</td>\n    </tr>\n    <tr>\n      <th>81</th>\n      <td>13010799JD00003</td>\n      <td>NaN</td>\n      <td>等级三</td>\n      <td>NaN</td>\n      <td>临港景鸿(T1)</td>\n      <td>NaN</td>\n      <td>NaN</td>\n      <td>关闭</td>\n      <td>NaN</td>\n      <td>jxstar-105-178923</td>\n      <td>...</td>\n      <td>厦航自助值机区域</td>\n      <td>中航信离港系统(T1)</td>\n      <td>自助值机设备</td>\n      <td>7:14 自查发现厦航cuss  1-3故障\\n7:21 页面错误，重启工作站故障（维修人：...</td>\n      <td>自助值机故障</td>\n      <td>完成</td>\n      <td>修复</td>\n      <td>NaN</td>\n      <td>厦航cuss机1-3</td>\n      <td>自查工单</td>\n    </tr>\n    <tr>\n      <th>102</th>\n      <td>02019907JD21177</td>\n      <td>NaN</td>\n      <td>等级三</td>\n      <td>NaN</td>\n      <td>临港景鸿(T1)</td>\n      <td>NaN</td>\n      <td>NaN</td>\n      <td>关闭</td>\n      <td>NaN</td>\n      <td>jxstar-423-178895</td>\n      <td>...</td>\n      <td>T1航站楼2层A楼区域B10柜台</td>\n      <td>中航信离港系统(T1)</td>\n      <td>键盘（带MSR和OCR键盘）</td>\n      <td>键盘按键无反应 插拔线路后恢复</td>\n      <td>外设故障/外设线路松脱</td>\n      <td>完成</td>\n      <td>修复</td>\n      <td>NaN</td>\n      <td>B10柜台键盘故障</td>\n      <td>自查工单</td>\n    </tr>\n    <tr>\n      <th>111</th>\n      <td>02019907JD22103</td>\n      <td>NaN</td>\n      <td>等级三</td>\n      <td>NaN</td>\n      <td>临港景鸿(T1)</td>\n      <td>NaN</td>\n      <td>NaN</td>\n      <td>关闭</td>\n      <td>NaN</td>\n      <td>jxstar-306-178887</td>\n      <td>...</td>\n      <td>D01值机柜台</td>\n      <td>中航信离港系统(T1)</td>\n      <td>护照身份证阅读器</td>\n      <td>到达查看设备 身份证扫描区域灯不亮 重新插拔线路无效 与旁边柜台好的设备更换查看依旧不亮 判...</td>\n      <td>外设故障/外设线路松脱</td>\n      <td>完成</td>\n      <td>修复</td>\n      <td>NaN</td>\n      <td>厦航高端值机柜台身份证阅读器故障</td>\n      <td>自查工单</td>\n    </tr>\n    <tr>\n      <th>116</th>\n      <td>02019905JD19282</td>\n      <td>NaN</td>\n      <td>等级三</td>\n      <td>NaN</td>\n      <td>临港景鸿(T1)</td>\n      <td>NaN</td>\n      <td>NaN</td>\n      <td>关闭</td>\n      <td>NaN</td>\n      <td>jxstar-020-178877</td>\n      <td>...</td>\n      <td>#1Fa06</td>\n      <td>T1视频监控系统</td>\n      <td>IP摄像机</td>\n      <td>摄像机无实时回放 网络正常 后台重启摄像头后恢复</td>\n      <td>摄像机故障</td>\n      <td>完成</td>\n      <td>修复</td>\n      <td>NaN</td>\n      <td>13507摄像头无实时回放</td>\n      <td>自查工单</td>\n    </tr>\n    <tr>\n      <th>162</th>\n      <td>02019905JD19677</td>\n      <td>NaN</td>\n      <td>等级三</td>\n      <td>NaN</td>\n      <td>临港景鸿(T1)</td>\n      <td>NaN</td>\n      <td>NaN</td>\n      <td>关闭</td>\n      <td>NaN</td>\n      <td>jxstar-212-178798</td>\n      <td>...</td>\n      <td>#3Fa01</td>\n      <td>T1视频监控系统</td>\n      <td>IP摄像机</td>\n      <td>摄像机无实时回放 查看回放有间断 推测为电源适配器损坏 更换后恢复正常</td>\n      <td>电源故障</td>\n      <td>完成</td>\n      <td>修复</td>\n      <td>NaN</td>\n      <td>17883摄像头无实时回放</td>\n      <td>自查工单</td>\n    </tr>\n    <tr>\n      <th>164</th>\n      <td>02019902JD18989</td>\n      <td>NaN</td>\n      <td>等级三</td>\n      <td>NaN</td>\n      <td>临港景鸿(T1)</td>\n      <td>NaN</td>\n      <td>NaN</td>\n      <td>关闭</td>\n      <td>NaN</td>\n      <td>jxstar-902-178799</td>\n      <td>...</td>\n      <td>D14值机柜台</td>\n      <td>T1航显系统</td>\n      <td>OPS工控机</td>\n      <td>工控机无法开机 查看设备电源无故障 推测工控机系统有问题 更换工控机后恢复</td>\n      <td>工控机故障</td>\n      <td>完成</td>\n      <td>修复</td>\n      <td>NaN</td>\n      <td>D14航显工控机无法开机</td>\n      <td>自查工单</td>\n    </tr>\n    <tr>\n      <th>174</th>\n      <td>02019907JD19366</td>\n      <td>NaN</td>\n      <td>等级三</td>\n      <td>NaN</td>\n      <td>临港景鸿(T1)</td>\n      <td>NaN</td>\n      <td>NaN</td>\n      <td>关闭</td>\n      <td>NaN</td>\n      <td>jxstar-404-178764</td>\n      <td>...</td>\n      <td>T1航站楼2层A楼区域B17柜台</td>\n      <td>中航信离港系统(T1)</td>\n      <td>登机牌及行李牌打印机</td>\n      <td>6:30 自查B17 打印机故障\\n行李条打印淡，打开发现打印头存在白点，更换打印机整机\\n...</td>\n      <td>打印头硬件故障</td>\n      <td>完成</td>\n      <td>修复</td>\n      <td>NaN</td>\n      <td>B17 行李条打印机故障</td>\n      <td>自查工单</td>\n    </tr>\n    <tr>\n      <th>177</th>\n      <td>02019907JD21015</td>\n      <td>NaN</td>\n      <td>等级三</td>\n      <td>NaN</td>\n      <td>临港景鸿(T1)</td>\n      <td>NaN</td>\n      <td>NaN</td>\n      <td>关闭</td>\n      <td>NaN</td>\n      <td>jxstar-085-178763</td>\n      <td>...</td>\n      <td>T1航站楼2层A楼区域B07柜台</td>\n      <td>中航信离港系统(T1)</td>\n      <td>KVM切换器</td>\n      <td>6:01 接报B07鼠标异常\\n6:07 到达现场，发现航信系统鼠标无法使用，切换至CUTE...</td>\n      <td>外设故障/外设线路松脱</td>\n      <td>完成</td>\n      <td>修复</td>\n      <td>NaN</td>\n      <td>B07  鼠标故障</td>\n      <td>自查工单</td>\n    </tr>\n    <tr>\n      <th>187</th>\n      <td>02019905JD20924</td>\n      <td>NaN</td>\n      <td>等级三</td>\n      <td>NaN</td>\n      <td>临港景鸿(T1)</td>\n      <td>NaN</td>\n      <td>NaN</td>\n      <td>关闭</td>\n      <td>NaN</td>\n      <td>jxstar-861-178755</td>\n      <td>...</td>\n      <td>3楼安检SOC监控室</td>\n      <td>T1视频监控系统</td>\n      <td>图像工作站</td>\n      <td>15:59接报soc电脑故障，\\n16:12到达，(indigo软件登入不了)，\\n16:2...</td>\n      <td>接口或服务器软件故障</td>\n      <td>完成</td>\n      <td>修复</td>\n      <td>NaN</td>\n      <td>soc cctv电脑故障</td>\n      <td>自查工单</td>\n    </tr>\n    <tr>\n      <th>204</th>\n      <td>02019907JD22138</td>\n      <td>NaN</td>\n      <td>等级三</td>\n      <td>NaN</td>\n      <td>临港景鸿(T1)</td>\n      <td>NaN</td>\n      <td>NaN</td>\n      <td>关闭</td>\n      <td>NaN</td>\n      <td>jxstar-193-178685</td>\n      <td>...</td>\n      <td>T1航站楼5.4米层5.4米层厦航贵宾室区域5.4米层厦航贵宾室区域</td>\n      <td>中航信离港系统(T1)</td>\n      <td>行李条打印机</td>\n      <td>打印模糊白条 清理擦拭后不行更换打印机后恢复</td>\n      <td>打印头硬件故障</td>\n      <td>完成</td>\n      <td>修复</td>\n      <td>NaN</td>\n      <td>厦航高端值机区打印机故障</td>\n      <td>自查工单</td>\n    </tr>\n    <tr>\n      <th>250</th>\n      <td>02010104JD14514</td>\n      <td>NaN</td>\n      <td>等级三</td>\n      <td>NaN</td>\n      <td>临港景鸿(T1)</td>\n      <td>NaN</td>\n      <td>NaN</td>\n      <td>关闭</td>\n      <td>NaN</td>\n      <td>jxstar-639-178604</td>\n      <td>...</td>\n      <td>T1航站楼1层A楼区域登机口T03</td>\n      <td>T1航显系统</td>\n      <td>工控机</td>\n      <td>9:50 自查T03右 T04右航显故障\\n软件卡死，联系后台，重启软件（维修人：朱骏）\\n...</td>\n      <td>工控机故障</td>\n      <td>完成</td>\n      <td>修复</td>\n      <td>NaN</td>\n      <td>自查T03右 T04右航显故障</td>\n      <td>自查工单</td>\n    </tr>\n    <tr>\n      <th>303</th>\n      <td>13010799JD00004</td>\n      <td>NaN</td>\n      <td>等级三</td>\n      <td>NaN</td>\n      <td>临港景鸿(T1)</td>\n      <td>NaN</td>\n      <td>NaN</td>\n      <td>关闭</td>\n      <td>NaN</td>\n      <td>jxstar-722-178471</td>\n      <td>...</td>\n      <td>厦航自助值机区域</td>\n      <td>中航信离港系统(T1)</td>\n      <td>自助值机设备</td>\n      <td>行李牌打印缺失 重启工作站后恢复</td>\n      <td>其他故障</td>\n      <td>完成</td>\n      <td>修复</td>\n      <td>NaN</td>\n      <td>厦航cuss1-4 2-4故障</td>\n      <td>自查工单</td>\n    </tr>\n    <tr>\n      <th>329</th>\n      <td>13010799JD00005</td>\n      <td>NaN</td>\n      <td>等级三</td>\n      <td>NaN</td>\n      <td>临港景鸿(T1)</td>\n      <td>NaN</td>\n      <td>NaN</td>\n      <td>关闭</td>\n      <td>NaN</td>\n      <td>jxstar-688-178392</td>\n      <td>...</td>\n      <td>厦航自助值机区域</td>\n      <td>中航信离港系统(T1)</td>\n      <td>自助值机设备</td>\n      <td>登机牌打印机用户装纸错误 导致无法打印 重新装纸后恢复</td>\n      <td>其他故障</td>\n      <td>完成</td>\n      <td>修复</td>\n      <td>NaN</td>\n      <td>厦航cuss1-2故障</td>\n      <td>自查工单</td>\n    </tr>\n    <tr>\n      <th>339</th>\n      <td>13010799JD00001</td>\n      <td>NaN</td>\n      <td>等级三</td>\n      <td>NaN</td>\n      <td>临港景鸿(T1)</td>\n      <td>NaN</td>\n      <td>NaN</td>\n      <td>关闭</td>\n      <td>NaN</td>\n      <td>jxstar-808-178382</td>\n      <td>...</td>\n      <td>厦航自助值机区域</td>\n      <td>中航信离港系统(T1)</td>\n      <td>自助值机设备</td>\n      <td>6:49 接报厦航cuss1-1故障\\n6:56 到达现场，发现面板报错，打开柜台发现用户装...</td>\n      <td>打印机粘纸、卡纸</td>\n      <td>完成</td>\n      <td>修复</td>\n      <td>NaN</td>\n      <td>厦航cuss 1-1故障</td>\n      <td>自查工单</td>\n    </tr>\n    <tr>\n      <th>344</th>\n      <td>02019907JD21438</td>\n      <td>NaN</td>\n      <td>等级三</td>\n      <td>NaN</td>\n      <td>临港景鸿(T1)</td>\n      <td>NaN</td>\n      <td>NaN</td>\n      <td>关闭</td>\n      <td>NaN</td>\n      <td>jxstar-399-178378</td>\n      <td>...</td>\n      <td>D04值机柜台</td>\n      <td>中航信离港系统(T1)</td>\n      <td>离港工作站（显示器）</td>\n      <td>17:09接报D04网路故障 17:13到达现场 17:35 到达现场后查询电脑系统无异样 ...</td>\n      <td>网络故障</td>\n      <td>完成</td>\n      <td>修复</td>\n      <td>NaN</td>\n      <td>D04网路故障</td>\n      <td>自查工单</td>\n    </tr>\n    <tr>\n      <th>351</th>\n      <td>02019907JD21105</td>\n      <td>NaN</td>\n      <td>等级三</td>\n      <td>NaN</td>\n      <td>临港景鸿(T1)</td>\n      <td>NaN</td>\n      <td>NaN</td>\n      <td>关闭</td>\n      <td>NaN</td>\n      <td>jxstar-499-178370</td>\n      <td>...</td>\n      <td>T1航站楼2层A楼区域B01柜台</td>\n      <td>中航信离港系统(T1)</td>\n      <td>离港工作站</td>\n      <td>11:49 接报b01电脑卡顿\\n11:51 到达现场\\n11:57 东航值机软件卡顿，重启...</td>\n      <td>中航信离港系统软件故障</td>\n      <td>完成</td>\n      <td>修复</td>\n      <td>NaN</td>\n      <td>B01值机柜台电脑卡顿</td>\n      <td>自查工单</td>\n    </tr>\n    <tr>\n      <th>356</th>\n      <td>02019914JD22461</td>\n      <td>NaN</td>\n      <td>等级三</td>\n      <td>NaN</td>\n      <td>临港景鸿(T1)</td>\n      <td>NaN</td>\n      <td>NaN</td>\n      <td>关闭</td>\n      <td>NaN</td>\n      <td>jxstar-964-178368</td>\n      <td>...</td>\n      <td>T1航站楼B楼5.4m层国际出发员工通道验证柜台</td>\n      <td>T1出入口控制系统</td>\n      <td>工作站</td>\n      <td>8:02 接报安检三区身份证读卡器故障 \\n8:10 到达现场，软件退出，重启软件修复 \\n...</td>\n      <td>工作站故障</td>\n      <td>完成</td>\n      <td>修复</td>\n      <td>NaN</td>\n      <td>安检三区身份证读卡器故障</td>\n      <td>自查工单</td>\n    </tr>\n  </tbody>\n</table>\n<p>21 rows × 66 columns</p>\n</div>"
     },
     "execution_count": 12,
     "metadata": {},
     "output_type": "execute_result"
    }
   ],
   "source": [
    "df_t2"
   ],
   "metadata": {
    "collapsed": false
   }
  },
  {
   "cell_type": "code",
   "execution_count": 5,
   "outputs": [
    {
     "data": {
      "text/plain": "Timedelta('0 days 05:06:07')"
     },
     "execution_count": 5,
     "metadata": {},
     "output_type": "execute_result"
    }
   ],
   "source": [
    "hour,minute,second=5,6,7\n",
    "pd.Timedelta(f'{hour}:{minute}:{second}')"
   ],
   "metadata": {
    "collapsed": false
   }
  },
  {
   "cell_type": "code",
   "execution_count": 7,
   "outputs": [
    {
     "data": {
      "text/plain": "DatetimeIndex(['2023-01-01 12:01:01', '2023-01-02 12:01:01',\n               '2023-01-03 12:01:01', '2023-01-04 12:01:01',\n               '2023-01-05 12:01:01'],\n              dtype='datetime64[ns]', freq='D')"
     },
     "execution_count": 7,
     "metadata": {},
     "output_type": "execute_result"
    }
   ],
   "source": [
    "from tool.exceltype import STT\n",
    "startDay = STT(2023,1,1,12,1,1)\n",
    "number = 5\n",
    "freq = 'D'\n",
    "pd.date_range(startDay, periods=number, freq=freq)"
   ],
   "metadata": {
    "collapsed": false
   }
  },
  {
   "cell_type": "code",
   "execution_count": null,
   "outputs": [],
   "source": [],
   "metadata": {
    "collapsed": false
   }
  }
 ],
 "metadata": {
  "kernelspec": {
   "display_name": "Python 3 (ipykernel)",
   "language": "python",
   "name": "python3"
  },
  "language_info": {
   "codemirror_mode": {
    "name": "ipython",
    "version": 3
   },
   "file_extension": ".py",
   "mimetype": "text/x-python",
   "name": "python",
   "nbconvert_exporter": "python",
   "pygments_lexer": "ipython3",
   "version": "3.8.17"
  }
 },
 "nbformat": 4,
 "nbformat_minor": 1
}
