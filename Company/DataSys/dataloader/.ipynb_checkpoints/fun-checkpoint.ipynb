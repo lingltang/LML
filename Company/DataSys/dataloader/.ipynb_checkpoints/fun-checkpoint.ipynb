{
 "cells": [
  {
   "cell_type": "code",
   "execution_count": null,
   "metadata": {
    "collapsed": true,
    "pycharm": {
     "is_executing": true
    }
   },
   "outputs": [],
   "source": [
    "import pandas as pd\n",
    "from datetime import datetime\n",
    "import numpy as np\n"
   ]
  },
  {
   "cell_type": "code",
   "execution_count": 33,
   "metadata": {},
   "outputs": [],
   "source": [
    "# 创建一个时间周期\n",
    "def createDayRange(startDay,number,freq='D'):\n",
    "    return pd.date_range(startDay, periods=number, freq=freq)\n",
    "# 转化文本到时间日\n",
    "def vtSTD(strdata:str)->pd.Period:\n",
    "    return pd.Period(strdata.split(' ')[0])\n",
    "# 转化文本到时间月\n",
    "def vtSTDM(strdata:str)->pd.Period:\n",
    "    return pd.Period(strdata.split(' ')[0],'M')\n",
    "# 转化文本到秒\n",
    "def vtSTDS(strData):\n",
    "    if strData==np.nan:\n",
    "        return np.nan\n",
    "    return pd.Timestamp(strData)\n",
    "# 获取某几列的数据类型\n",
    "def seeColsTypes(data,colList):\n",
    "    resdict = dict()\n",
    "    for i in colList:\n",
    "        resdict[i] = seeColTypes(data,i)\n",
    "    return resdict\n",
    "# 获取某一列的数据类型\n",
    "def  seeColTypes(data,colname):\n",
    "    typesnum = dict()\n",
    "    for i in data[colname]:\n",
    "        typei = type(i)\n",
    "        if typei in typesnum.keys():\n",
    "            typesnum[typei] += 1\n",
    "            continue\n",
    "        typesnum[typei] = 0\n",
    "    return typesnum\n",
    "\n",
    "def subtime(startTime:pd.Timestamp,endTime:pd.Timestamp,tla = 's'):\n",
    "    tl = (endTime-startTime).to_timedelta64()\n",
    "    if tla == 's':\n",
    "        return tl/60\n",
    "    if tla == 'h':\n",
    "        return tl/3600\n",
    "    if tla == 'd':\n",
    "        return tl/3600/24\n",
    "    "
   ]
  },
  {
   "cell_type": "code",
   "execution_count": 35,
   "metadata": {},
   "outputs": [
    {
     "name": "stdout",
     "output_type": "stream",
     "text": [
      "1 seconds\n"
     ]
    }
   ],
   "source": [
    "print(subtime(pd.Timestamp('2023/11/20'),pd.Timestamp('2023/11/21'),tla='d'))"
   ]
  },
  {
   "cell_type": "code",
   "execution_count": 88,
   "metadata": {},
   "outputs": [],
   "source": [
    "path = r'C:\\Users\\ASUS\\Desktop\\Tx.xlsx'\n",
    "readname = ['故障发生时间','到达现场时间','故障排除时间','报修人','位置','设备系统','设备','详细措施','故障类','报修处理情况','修复状态','地点详述','移交时间']"
   ]
  },
  {
   "cell_type": "code",
   "execution_count": 89,
   "metadata": {},
   "outputs": [],
   "source": [
    "df_excel_basic = pd.read_excel(path,usecols=readname)"
   ]
  },
  {
   "cell_type": "code",
   "execution_count": 93,
   "metadata": {},
   "outputs": [
    {
     "data": {
      "text/plain": [
       "{pandas._libs.tslibs.timestamps.Timestamp: 7}"
      ]
     },
     "execution_count": 93,
     "metadata": {},
     "output_type": "execute_result"
    }
   ],
   "source": [
    "seeColTypes(df_excel_basic,'实际时间')"
   ]
  },
  {
   "cell_type": "code",
   "execution_count": 106,
   "metadata": {},
   "outputs": [],
   "source": [
    "df_excel_basic['创建日期'] = df_excel_basic['故障发生时间'].apply(vtSTD)\n",
    "df_excel_basic['月份'] = df_excel_basic['故障发生时间'].apply(vtSTDM)\n",
    "df_excel_basic['实际时间'] = df_excel_basic['故障发生时间'].apply(pd.Timestamp)\n",
    "df_excel_basic['到场时间'] = subtime(df_excel_basic['到达现场时间'].apply(pd.Timestamp),df_excel_basic['故障发生时间'].apply(pd.Timestamp))\n",
    "df_excel_basic['故障时间'] = subtime(df_excel_basic['故障排除时间'].apply(pd.Timestamp),df_excel_basic['故障发生时间'].apply(pd.Timestamp))"
   ]
  },
  {
   "cell_type": "code",
   "execution_count": 92,
   "metadata": {},
   "outputs": [],
   "source": [
    "readname.append('创建日期')\n",
    "readname.append('月份')\n",
    "readname.append('实际时间')\n",
    "df_excel_basic = df_excel_basic[readname]"
   ]
  },
  {
   "cell_type": "code",
   "execution_count": 108,
   "metadata": {},
   "outputs": [],
   "source": [
    "df_excel_basic.to_excel(r'C:\\Users\\ASUS\\Desktop\\out.xlsx')"
   ]
  },
  {
   "cell_type": "code",
   "execution_count": 112,
   "metadata": {},
   "outputs": [
    {
     "data": {
      "text/plain": [
       "numpy.timedelta64(60,'s')"
      ]
     },
     "execution_count": 112,
     "metadata": {},
     "output_type": "execute_result"
    }
   ],
   "source": []
  },
  {
   "cell_type": "code",
   "execution_count": null,
   "metadata": {
    "pycharm": {
     "is_executing": true
    }
   },
   "outputs": [],
   "source": []
  },
  {
   "cell_type": "code",
   "execution_count": 104,
   "metadata": {},
   "outputs": [],
   "source": []
  }
 ],
 "metadata": {
  "kernelspec": {
   "display_name": "Python 3 (ipykernel)",
   "language": "python",
   "name": "python3"
  },
  "language_info": {
   "codemirror_mode": {
    "name": "ipython",
    "version": 3
   },
   "file_extension": ".py",
   "mimetype": "text/x-python",
   "name": "python",
   "nbconvert_exporter": "python",
   "pygments_lexer": "ipython3",
   "version": "3.8.17"
  }
 },
 "nbformat": 4,
 "nbformat_minor": 1
}
