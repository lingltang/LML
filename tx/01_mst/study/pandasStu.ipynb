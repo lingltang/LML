{
 "cells": [
  {
   "cell_type": "code",
   "execution_count": null,
   "metadata": {
    "pycharm": {
     "is_executing": true
    }
   },
   "outputs": [],
   "source": [
    "import pandas as pd\n",
    "import numpy as np"
   ]
  },
  {
   "cell_type": "code",
   "execution_count": 25,
   "metadata": {},
   "outputs": [],
   "source": [
    "dic = {'Ling':99, 'Mo':27, 'Yu':32}\n",
    "pdarr2 = pd.Series(data=dic, dtype=float)"
   ]
  },
  {
   "cell_type": "code",
   "execution_count": 29,
   "metadata": {},
   "outputs": [
    {
     "data": {
      "text/plain": [
       "Np       补全值\n",
       "Ling    99.0\n",
       "Hlh      补全值\n",
       "dtype: object"
      ]
     },
     "execution_count": 29,
     "metadata": {},
     "output_type": "execute_result"
    }
   ],
   "source": [
    "pdarr2.reindex(index=['Np', 'Ling', 'Hlh'], fill_value='补全值')"
   ]
  },
  {
   "cell_type": "code",
   "execution_count": null,
   "metadata": {},
   "outputs": [],
   "source": [
    "'''\n",
    "dtype 类型\n",
    "size  数组长\n",
    "empty 是否为空\n",
    "name  名字\n",
    "方法\n",
    "head(返回数据的行数)\n",
    "isnull(是否有缺失值)\n",
    "\n",
    "'''"
   ]
  },
  {
   "cell_type": "code",
   "execution_count": 41,
   "metadata": {},
   "outputs": [],
   "source": [
    "arr3 = np.random.randn(6)\n",
    "pdarr3 = pd.Series(data = arr3)"
   ]
  },
  {
   "cell_type": "code",
   "execution_count": 42,
   "metadata": {},
   "outputs": [
    {
     "data": {
      "text/plain": [
       "0    0.826544\n",
       "1    1.288712\n",
       "2   -0.275998\n",
       "3    0.248512\n",
       "4    1.022553\n",
       "dtype: float64"
      ]
     },
     "execution_count": 42,
     "metadata": {},
     "output_type": "execute_result"
    }
   ],
   "source": [
    "pdarr3.head(5)"
   ]
  },
  {
   "cell_type": "code",
   "execution_count": 52,
   "metadata": {},
   "outputs": [
    {
     "data": {
      "text/plain": [
       "array([2, 3, 4, 0])"
      ]
     },
     "execution_count": 52,
     "metadata": {},
     "output_type": "execute_result"
    }
   ],
   "source": [
    "arr1[arr1<5]"
   ]
  },
  {
   "cell_type": "code",
   "execution_count": 70,
   "metadata": {},
   "outputs": [],
   "source": [
    "# 二维数据\n",
    "N = 9\n",
    "M = 6\n",
    "rarr1 = [np.random.randn(N) for _ in range(M)]\n",
    "pdarr4 = pd.DataFrame(rarr1).T"
   ]
  },
  {
   "cell_type": "code",
   "execution_count": 76,
   "metadata": {},
   "outputs": [
    {
     "data": {
      "text/plain": [
       "0    5\n",
       "1    7\n",
       "2    5\n",
       "3    4\n",
       "4    5\n",
       "5    2\n",
       "dtype: int64"
      ]
     },
     "execution_count": 76,
     "metadata": {},
     "output_type": "execute_result"
    }
   ],
   "source": [
    "pdarr4[pdarr4<0].isna().sum()"
   ]
  },
  {
   "cell_type": "code",
   "execution_count": 78,
   "metadata": {},
   "outputs": [
    {
     "data": {
      "text/html": [
       "<div>\n",
       "<style scoped>\n",
       "    .dataframe tbody tr th:only-of-type {\n",
       "        vertical-align: middle;\n",
       "    }\n",
       "\n",
       "    .dataframe tbody tr th {\n",
       "        vertical-align: top;\n",
       "    }\n",
       "\n",
       "    .dataframe thead th {\n",
       "        text-align: right;\n",
       "    }\n",
       "</style>\n",
       "<table border=\"1\" class=\"dataframe\">\n",
       "  <thead>\n",
       "    <tr style=\"text-align: right;\">\n",
       "      <th></th>\n",
       "      <th>0</th>\n",
       "      <th>1</th>\n",
       "      <th>2</th>\n",
       "      <th>3</th>\n",
       "      <th>4</th>\n",
       "      <th>5</th>\n",
       "    </tr>\n",
       "  </thead>\n",
       "  <tbody>\n",
       "    <tr>\n",
       "      <th>0</th>\n",
       "      <td>True</td>\n",
       "      <td>True</td>\n",
       "      <td>True</td>\n",
       "      <td>False</td>\n",
       "      <td>False</td>\n",
       "      <td>True</td>\n",
       "    </tr>\n",
       "    <tr>\n",
       "      <th>1</th>\n",
       "      <td>False</td>\n",
       "      <td>False</td>\n",
       "      <td>True</td>\n",
       "      <td>True</td>\n",
       "      <td>True</td>\n",
       "      <td>False</td>\n",
       "    </tr>\n",
       "    <tr>\n",
       "      <th>2</th>\n",
       "      <td>False</td>\n",
       "      <td>False</td>\n",
       "      <td>False</td>\n",
       "      <td>True</td>\n",
       "      <td>False</td>\n",
       "      <td>False</td>\n",
       "    </tr>\n",
       "    <tr>\n",
       "      <th>3</th>\n",
       "      <td>True</td>\n",
       "      <td>True</td>\n",
       "      <td>False</td>\n",
       "      <td>True</td>\n",
       "      <td>False</td>\n",
       "      <td>False</td>\n",
       "    </tr>\n",
       "    <tr>\n",
       "      <th>4</th>\n",
       "      <td>True</td>\n",
       "      <td>True</td>\n",
       "      <td>False</td>\n",
       "      <td>False</td>\n",
       "      <td>False</td>\n",
       "      <td>False</td>\n",
       "    </tr>\n",
       "    <tr>\n",
       "      <th>5</th>\n",
       "      <td>False</td>\n",
       "      <td>True</td>\n",
       "      <td>True</td>\n",
       "      <td>False</td>\n",
       "      <td>True</td>\n",
       "      <td>False</td>\n",
       "    </tr>\n",
       "    <tr>\n",
       "      <th>6</th>\n",
       "      <td>True</td>\n",
       "      <td>True</td>\n",
       "      <td>True</td>\n",
       "      <td>True</td>\n",
       "      <td>True</td>\n",
       "      <td>False</td>\n",
       "    </tr>\n",
       "    <tr>\n",
       "      <th>7</th>\n",
       "      <td>False</td>\n",
       "      <td>True</td>\n",
       "      <td>False</td>\n",
       "      <td>False</td>\n",
       "      <td>True</td>\n",
       "      <td>False</td>\n",
       "    </tr>\n",
       "    <tr>\n",
       "      <th>8</th>\n",
       "      <td>True</td>\n",
       "      <td>True</td>\n",
       "      <td>True</td>\n",
       "      <td>False</td>\n",
       "      <td>True</td>\n",
       "      <td>True</td>\n",
       "    </tr>\n",
       "  </tbody>\n",
       "</table>\n",
       "</div>"
      ],
      "text/plain": [
       "       0      1      2      3      4      5\n",
       "0   True   True   True  False  False   True\n",
       "1  False  False   True   True   True  False\n",
       "2  False  False  False   True  False  False\n",
       "3   True   True  False   True  False  False\n",
       "4   True   True  False  False  False  False\n",
       "5  False   True   True  False   True  False\n",
       "6   True   True   True   True   True  False\n",
       "7  False   True  False  False   True  False\n",
       "8   True   True   True  False   True   True"
      ]
     },
     "execution_count": 78,
     "metadata": {},
     "output_type": "execute_result"
    }
   ],
   "source": [
    "pdarr4[pdarr4<0].isna()"
   ]
  },
  {
   "cell_type": "code",
   "execution_count": 9,
   "metadata": {},
   "outputs": [],
   "source": [
    "data = {'name':['Mo','Ling','Yu'],'age':[16,18,15],'height':[170.0,171.0,165.0]}\n",
    "df = pd.DataFrame(data=data)\n",
    "data2 = [['Mo','Ling','Yu'],[16,18,15],[170.0,171.0,165.0]]\n",
    "df2 = pd.DataFrame(data=data2)"
   ]
  },
  {
   "cell_type": "code",
   "execution_count": 13,
   "metadata": {},
   "outputs": [
    {
     "name": "stdout",
     "output_type": "stream",
     "text": [
      "0      Mo\n",
      "1    Ling\n",
      "2      Yu\n",
      "Name: name, dtype: object\n",
      "   name  age  height\n",
      "0    Mo   16   170.0\n",
      "1  Ling   18   171.0\n",
      "  name  age  height\n",
      "2   Yu   15   165.0\n"
     ]
    }
   ],
   "source": [
    "# 列查询\n",
    "print(df['name'])\n",
    "# 行查询\n",
    "print(df[0:2])\n",
    "print(df[df['height']<170])"
   ]
  },
  {
   "cell_type": "code",
   "execution_count": 10,
   "metadata": {},
   "outputs": [
    {
     "name": "stdout",
     "output_type": "stream",
     "text": [
      "0       Mo\n",
      "1       16\n",
      "2    170.0\n",
      "Name: 0, dtype: object\n"
     ]
    }
   ],
   "source": [
    "# 行查询\n",
    "print(df2[0])"
   ]
  },
  {
   "cell_type": "code",
   "execution_count": 14,
   "metadata": {},
   "outputs": [
    {
     "name": "stdout",
     "output_type": "stream",
     "text": [
      "   name  age  height  weight\n",
      "0    Mo   16   170.0      70\n",
      "1  Ling   18   171.0      76\n",
      "2    Yu   15   165.0      62\n"
     ]
    }
   ],
   "source": [
    "# 添加数据\n",
    "df['weight'] = pd.Series([70,76,62])\n",
    "print(df)"
   ]
  },
  {
   "cell_type": "code",
   "execution_count": 15,
   "metadata": {},
   "outputs": [
    {
     "name": "stdout",
     "output_type": "stream",
     "text": [
      "   name  age  height    xy  weight\n",
      "0    Mo   16   170.0  10.7      70\n",
      "1  Ling   18   171.0   6.9      76\n",
      "2    Yu   15   165.0  21.7      62\n"
     ]
    }
   ],
   "source": [
    "# df.insert(插入位置，插入名字，插入的值)\n",
    "df.insert(3,'xy',[10.7,6.9,21.7])\n",
    "print(df)"
   ]
  },
  {
   "cell_type": "code",
   "execution_count": 21,
   "metadata": {},
   "outputs": [
    {
     "name": "stdout",
     "output_type": "stream",
     "text": [
      "   name  age  height    xy  weight       BMI\n",
      "0    Mo   16   170.0  10.7      70  0.002422\n",
      "1  Ling   18   171.0   6.9      76  0.002599\n",
      "2    Yu   15   165.0  21.7      62  0.002277\n"
     ]
    }
   ],
   "source": [
    "df.pop('BMI')\n",
    "df.insert(5,'BMI',df['weight']/df['height']**2)\n",
    "print(df)"
   ]
  },
  {
   "cell_type": "code",
   "execution_count": 2,
   "metadata": {},
   "outputs": [
    {
     "name": "stdout",
     "output_type": "stream",
     "text": [
      "    name  age  height\n",
      "p1    Mo   16   170.0\n",
      "p2  Ling   18   171.0\n",
      "p3    Yu   15   165.0\n"
     ]
    }
   ],
   "source": [
    "# 行索引\n",
    "data3 = {'name':['Mo','Ling','Yu'],'age':[16,18,15],'height':[170.0,171.0,165.0]}\n",
    "df3 = pd.DataFrame(data=data3,index=['p1','p2','p3'])\n",
    "print(df3)"
   ]
  },
  {
   "cell_type": "code",
   "execution_count": 3,
   "metadata": {},
   "outputs": [
    {
     "name": "stdout",
     "output_type": "stream",
     "text": [
      "    age  name\n",
      "p1   16    Mo\n",
      "p2   18  Ling\n",
      "p3   15    Yu\n"
     ]
    }
   ],
   "source": [
    "print(df3[['age','name']])"
   ]
  },
  {
   "cell_type": "code",
   "execution_count": 4,
   "metadata": {},
   "outputs": [
    {
     "name": "stdout",
     "output_type": "stream",
     "text": [
      "18\n",
      "\n",
      "name       Ling\n",
      "age          18\n",
      "height    171.0\n",
      "Name: p2, dtype: object\n",
      "\n",
      "   name  age  height\n",
      "p1   Mo   16   170.0\n",
      "p3   Yu   15   165.0\n",
      "\n",
      "    age\n",
      "p1   16\n",
      "p3   15\n",
      "\n"
     ]
    }
   ],
   "source": [
    "# print(df3.loc[行数，列数])\n",
    "print(df3.loc['p2','age'], end='\\n\\n')\n",
    "print(df3.loc['p2'], end='\\n\\n')\n",
    "print(df3.loc[['p1','p3']], end='\\n\\n')\n",
    "print(df3.loc[['p1','p3'],['age']], end='\\n\\n')"
   ]
  },
  {
   "cell_type": "code",
   "execution_count": 5,
   "metadata": {},
   "outputs": [
    {
     "name": "stdout",
     "output_type": "stream",
     "text": [
      "name         Mo\n",
      "age          16\n",
      "height    170.0\n",
      "Name: p1, dtype: object\n",
      "\n",
      "    name  age\n",
      "p1    Mo   16\n",
      "p2  Ling   18\n",
      "\n"
     ]
    }
   ],
   "source": [
    "print(df3.iloc[0], end='\\n\\n')\n",
    "print(df3.iloc[:2, :2], end='\\n\\n')"
   ]
  },
  {
   "cell_type": "code",
   "execution_count": 6,
   "metadata": {},
   "outputs": [
    {
     "name": "stdout",
     "output_type": "stream",
     "text": [
      "    name  age  height\n",
      "p1    Mo   16   170.0\n",
      "p2  Ling   18   171.0\n",
      "p3    Yu   15   165.0\n",
      "p4  Yang   24   173.0\n",
      "p5  Zong   61   172.0\n"
     ]
    }
   ],
   "source": [
    "# 函数\n",
    "dfT=pd.DataFrame(data=[['Yang',24,173.0],['Zong',61,172.0]]\n",
    "                 ,columns=['name','age','height']\n",
    "                 ,index=['p4','p5'])\n",
    "print(df3._append(dfT))\n",
    "df3 = df3._append(dfT)"
   ]
  },
  {
   "cell_type": "code",
   "execution_count": 7,
   "metadata": {},
   "outputs": [
    {
     "name": "stdout",
     "output_type": "stream",
     "text": [
      "       0     1      2    3     4     5      6\n",
      "p5  Zong  61.0  172.0  NaN  Zong  61.0  172.0\n",
      "p6  Kong  99.0  170.0    X   NaN   NaN    NaN\n",
      "p1   NaN   NaN    NaN  NaN    Mo  16.0  170.0\n",
      "p2   NaN   NaN    NaN  NaN  Ling  18.0  171.0\n",
      "p3   NaN   NaN    NaN  NaN    Yu  15.0  165.0\n",
      "p4   NaN   NaN    NaN  NaN  Yang  24.0  173.0\n"
     ]
    }
   ],
   "source": [
    "dfX=pd.DataFrame(data=[['Zong',61,172.0,np.nan],['Kong',99,170.0,'X']]\n",
    "                 ,columns=['name','age','height','K']\n",
    "                 ,index=['p5','p6'])\n",
    "print(pd.concat([dfX,df3],join='outer',axis=1,ignore_index=True))"
   ]
  },
  {
   "cell_type": "code",
   "execution_count": 8,
   "metadata": {},
   "outputs": [
    {
     "name": "stdout",
     "output_type": "stream",
     "text": [
      "   name  age_x  height_x    K  age_y  height_y\n",
      "0    Mo    NaN       NaN  NaN     16     170.0\n",
      "1  Ling    NaN       NaN  NaN     18     171.0\n",
      "2    Yu    NaN       NaN  NaN     15     165.0\n",
      "3  Yang    NaN       NaN  NaN     24     173.0\n",
      "4  Zong   61.0     172.0  NaN     61     172.0\n",
      "\n",
      "   name  age_x  height_x    K  age_y  height_y\n",
      "0  Zong     61     172.0  NaN   61.0     172.0\n",
      "1  Kong     99     170.0    X    NaN       NaN\n",
      "\n",
      "   name  age_x  height_x    K  age_y  height_y\n",
      "0  Zong     61     172.0  NaN     61     172.0\n",
      "\n",
      "   name  age_x  height_x    K  age_y  height_y\n",
      "0  Zong   61.0     172.0  NaN   61.0     172.0\n",
      "1  Kong   99.0     170.0    X    NaN       NaN\n",
      "2    Mo    NaN       NaN  NaN   16.0     170.0\n",
      "3  Ling    NaN       NaN  NaN   18.0     171.0\n",
      "4    Yu    NaN       NaN  NaN   15.0     165.0\n",
      "5  Yang    NaN       NaN  NaN   24.0     173.0\n",
      "\n"
     ]
    }
   ],
   "source": [
    "print(pd.merge(dfX,df3,on='name',how='right'),end='\\n\\n')\n",
    "print(pd.merge(dfX,df3,on='name',how='left'),end='\\n\\n')\n",
    "print(pd.merge(dfX,df3,on='name',how='inner'),end='\\n\\n')\n",
    "print(pd.merge(dfX,df3,on='name',how='outer'),end='\\n\\n')\n",
    "df4 = pd.merge(dfX,df3,on='name',how='outer')"
   ]
  },
  {
   "cell_type": "code",
   "execution_count": 44,
   "outputs": [],
   "source": [
    "# 基础数据\n",
    "arr1 = np.array([2, 3, 4, 7, 9, 0])\n",
    "pdarr1 = pd.Series(data=arr1, index=('a','e','u','i','o','e'), dtype=float)"
   ],
   "metadata": {
    "collapsed": false,
    "pycharm": {
     "is_executing": true
    }
   }
  },
  {
   "cell_type": "code",
   "execution_count": 117,
   "metadata": {},
   "outputs": [
    {
     "name": "stdout",
     "output_type": "stream",
     "text": [
      "    age  height\n",
      "p1   16   170.0\n",
      "p2   18   171.0\n",
      "p3   15   165.0\n",
      "p4   24   173.0\n",
      "p5   61   172.0\n",
      "    name  age  height\n",
      "p2  Ling   18   171.0\n",
      "p3    Yu   15   165.0\n",
      "p4  Yang   24   173.0\n",
      "p5  Zong   61   172.0\n",
      "    age  height\n",
      "p2   18   171.0\n",
      "p3   15   165.0\n",
      "p4   24   173.0\n",
      "p5   61   172.0\n"
     ]
    }
   ],
   "source": [
    "print(df3.drop(columns='name',axis=0))\n",
    "print(df3.drop(labels='p1',axis=0))\n",
    "print(df3.drop(index='p1',columns='name',axis=0))"
   ]
  },
  {
   "cell_type": "code",
   "execution_count": 134,
   "metadata": {},
   "outputs": [
    {
     "name": "stdout",
     "output_type": "stream",
     "text": [
      "<class 'numpy.dtype[object_]'>\n",
      "<class 'numpy.dtype[int64]'>\n",
      "<class 'numpy.dtype[float64]'>\n"
     ]
    },
    {
     "data": {
      "text/plain": [
       "[None, None, None]"
      ]
     },
     "execution_count": 134,
     "metadata": {},
     "output_type": "execute_result"
    }
   ],
   "source": [
    "[print(type(i)) for i in df3.dtypes]"
   ]
  },
  {
   "cell_type": "code",
   "execution_count": 162,
   "metadata": {},
   "outputs": [
    {
     "name": "stdout",
     "output_type": "stream",
     "text": [
      "    name  age  height\n",
      "p1   NaN   16   170.0\n",
      "p2  Ling   18   171.0\n",
      "p3    Yu   15   165.0\n",
      "p4  Yang   24   173.0\n",
      "p5  Zong   61   172.0\n"
     ]
    }
   ],
   "source": [
    "df3.values[0,0] = np.nan\n",
    "print(df3)"
   ]
  },
  {
   "cell_type": "code",
   "execution_count": 176,
   "metadata": {},
   "outputs": [
    {
     "name": "stdout",
     "output_type": "stream",
     "text": [
      "   name  age_x  height_x    K  age_y  height_y\n",
      "0  Zong   61.0     172.0  NaN   61.0     172.0\n",
      "1  Kong   99.0     170.0    X    NaN       NaN\n",
      "2   NaN    NaN       NaN  NaN   16.0     170.0\n",
      "3  Ling    NaN       NaN  NaN   18.0     171.0\n",
      "4    Yu    NaN       NaN  NaN   15.0     165.0\n",
      "5  Yang    NaN       NaN  NaN   24.0     173.0\n",
      "<class 'pandas.core.frame.DataFrame'>\n",
      "RangeIndex: 6 entries, 0 to 5\n",
      "Data columns (total 6 columns):\n",
      " #   Column    Non-Null Count  Dtype  \n",
      "---  ------    --------------  -----  \n",
      " 0   name      5 non-null      object \n",
      " 1   age_x     2 non-null      float64\n",
      " 2   height_x  2 non-null      float64\n",
      " 3   K         1 non-null      object \n",
      " 4   age_y     5 non-null      float64\n",
      " 5   height_y  5 non-null      float64\n",
      "dtypes: float64(4), object(2)\n",
      "memory usage: 416.0+ bytes\n"
     ]
    }
   ],
   "source": [
    "print(df4)\n",
    "df4.info()"
   ]
  },
  {
   "cell_type": "code",
   "execution_count": 175,
   "metadata": {},
   "outputs": [
    {
     "data": {
      "text/html": [
       "<div>\n",
       "<style scoped>\n",
       "    .dataframe tbody tr th:only-of-type {\n",
       "        vertical-align: middle;\n",
       "    }\n",
       "\n",
       "    .dataframe tbody tr th {\n",
       "        vertical-align: top;\n",
       "    }\n",
       "\n",
       "    .dataframe thead th {\n",
       "        text-align: right;\n",
       "    }\n",
       "</style>\n",
       "<table border=\"1\" class=\"dataframe\">\n",
       "  <thead>\n",
       "    <tr style=\"text-align: right;\">\n",
       "      <th></th>\n",
       "      <th>name</th>\n",
       "      <th>age_x</th>\n",
       "      <th>height_x</th>\n",
       "      <th>K</th>\n",
       "      <th>age_y</th>\n",
       "      <th>height_y</th>\n",
       "    </tr>\n",
       "  </thead>\n",
       "  <tbody>\n",
       "    <tr>\n",
       "      <th>count</th>\n",
       "      <td>5</td>\n",
       "      <td>2.000000</td>\n",
       "      <td>2.000000</td>\n",
       "      <td>1</td>\n",
       "      <td>5.000000</td>\n",
       "      <td>5.000000</td>\n",
       "    </tr>\n",
       "    <tr>\n",
       "      <th>unique</th>\n",
       "      <td>5</td>\n",
       "      <td>NaN</td>\n",
       "      <td>NaN</td>\n",
       "      <td>1</td>\n",
       "      <td>NaN</td>\n",
       "      <td>NaN</td>\n",
       "    </tr>\n",
       "    <tr>\n",
       "      <th>top</th>\n",
       "      <td>Zong</td>\n",
       "      <td>NaN</td>\n",
       "      <td>NaN</td>\n",
       "      <td>X</td>\n",
       "      <td>NaN</td>\n",
       "      <td>NaN</td>\n",
       "    </tr>\n",
       "    <tr>\n",
       "      <th>freq</th>\n",
       "      <td>1</td>\n",
       "      <td>NaN</td>\n",
       "      <td>NaN</td>\n",
       "      <td>1</td>\n",
       "      <td>NaN</td>\n",
       "      <td>NaN</td>\n",
       "    </tr>\n",
       "    <tr>\n",
       "      <th>mean</th>\n",
       "      <td>NaN</td>\n",
       "      <td>80.000000</td>\n",
       "      <td>171.000000</td>\n",
       "      <td>NaN</td>\n",
       "      <td>26.800000</td>\n",
       "      <td>170.200000</td>\n",
       "    </tr>\n",
       "    <tr>\n",
       "      <th>std</th>\n",
       "      <td>NaN</td>\n",
       "      <td>26.870058</td>\n",
       "      <td>1.414214</td>\n",
       "      <td>NaN</td>\n",
       "      <td>19.434505</td>\n",
       "      <td>3.114482</td>\n",
       "    </tr>\n",
       "    <tr>\n",
       "      <th>min</th>\n",
       "      <td>NaN</td>\n",
       "      <td>61.000000</td>\n",
       "      <td>170.000000</td>\n",
       "      <td>NaN</td>\n",
       "      <td>15.000000</td>\n",
       "      <td>165.000000</td>\n",
       "    </tr>\n",
       "    <tr>\n",
       "      <th>25%</th>\n",
       "      <td>NaN</td>\n",
       "      <td>70.500000</td>\n",
       "      <td>170.500000</td>\n",
       "      <td>NaN</td>\n",
       "      <td>16.000000</td>\n",
       "      <td>170.000000</td>\n",
       "    </tr>\n",
       "    <tr>\n",
       "      <th>50%</th>\n",
       "      <td>NaN</td>\n",
       "      <td>80.000000</td>\n",
       "      <td>171.000000</td>\n",
       "      <td>NaN</td>\n",
       "      <td>18.000000</td>\n",
       "      <td>171.000000</td>\n",
       "    </tr>\n",
       "    <tr>\n",
       "      <th>75%</th>\n",
       "      <td>NaN</td>\n",
       "      <td>89.500000</td>\n",
       "      <td>171.500000</td>\n",
       "      <td>NaN</td>\n",
       "      <td>24.000000</td>\n",
       "      <td>172.000000</td>\n",
       "    </tr>\n",
       "    <tr>\n",
       "      <th>max</th>\n",
       "      <td>NaN</td>\n",
       "      <td>99.000000</td>\n",
       "      <td>172.000000</td>\n",
       "      <td>NaN</td>\n",
       "      <td>61.000000</td>\n",
       "      <td>173.000000</td>\n",
       "    </tr>\n",
       "  </tbody>\n",
       "</table>\n",
       "</div>"
      ],
      "text/plain": [
       "        name      age_x    height_x    K      age_y    height_y\n",
       "count      5   2.000000    2.000000    1   5.000000    5.000000\n",
       "unique     5        NaN         NaN    1        NaN         NaN\n",
       "top     Zong        NaN         NaN    X        NaN         NaN\n",
       "freq       1        NaN         NaN    1        NaN         NaN\n",
       "mean     NaN  80.000000  171.000000  NaN  26.800000  170.200000\n",
       "std      NaN  26.870058    1.414214  NaN  19.434505    3.114482\n",
       "min      NaN  61.000000  170.000000  NaN  15.000000  165.000000\n",
       "25%      NaN  70.500000  170.500000  NaN  16.000000  170.000000\n",
       "50%      NaN  80.000000  171.000000  NaN  18.000000  171.000000\n",
       "75%      NaN  89.500000  171.500000  NaN  24.000000  172.000000\n",
       "max      NaN  99.000000  172.000000  NaN  61.000000  173.000000"
      ]
     },
     "execution_count": 175,
     "metadata": {},
     "output_type": "execute_result"
    }
   ],
   "source": [
    "# 基础数据整合\n",
    "# 数量\n",
    "# 平均值\n",
    "# 标准差\n",
    "# 最小值\n",
    "# 不同位置的值大小\n",
    "# 最大值\n",
    "# var 方差\n",
    "# std 标准差\n",
    "df4.describe(include='all')\n"
   ]
  },
  {
   "cell_type": "code",
   "execution_count": 191,
   "metadata": {},
   "outputs": [
    {
     "name": "stdout",
     "output_type": "stream",
     "text": [
      "   name  age_x  height_x    K  age_y  height_y\n",
      "2   NaN    NaN       NaN  NaN   16.0     170.0\n",
      "0  Zong   61.0     172.0  NaN   61.0     172.0\n",
      "5  Yang    NaN       NaN  NaN   24.0     173.0\n",
      "0  Zong   61.0     172.0  NaN   61.0     172.0\n",
      "4    Yu    NaN       NaN  NaN   15.0     165.0\n",
      "4    Yu    NaN       NaN  NaN   15.0     165.0\n",
      "1  Kong   99.0     170.0    X    NaN       NaN\n"
     ]
    }
   ],
   "source": [
    "df5 = df4.sample(frac = 1.10,replace=True)\n",
    "print(df5)"
   ]
  },
  {
   "cell_type": "code",
   "execution_count": 220,
   "metadata": {},
   "outputs": [
    {
     "ename": "TypeError",
     "evalue": "drop_duplicates() got an unexpected keyword argument 'dropnan'",
     "output_type": "error",
     "traceback": [
      "\u001B[1;31m---------------------------------------------------------------------------\u001B[0m",
      "\u001B[1;31mTypeError\u001B[0m                                 Traceback (most recent call last)",
      "Cell \u001B[1;32mIn[220], line 1\u001B[0m\n\u001B[1;32m----> 1\u001B[0m \u001B[38;5;28mprint\u001B[39m(\u001B[43mdf5\u001B[49m\u001B[38;5;241;43m.\u001B[39;49m\u001B[43mdrop_duplicates\u001B[49m\u001B[43m(\u001B[49m\u001B[43msubset\u001B[49m\u001B[38;5;241;43m=\u001B[39;49m\u001B[43m[\u001B[49m\u001B[38;5;124;43m'\u001B[39;49m\u001B[38;5;124;43mK\u001B[39;49m\u001B[38;5;124;43m'\u001B[39;49m\u001B[43m]\u001B[49m\u001B[43m,\u001B[49m\u001B[43mkeep\u001B[49m\u001B[38;5;241;43m=\u001B[39;49m\u001B[38;5;28;43;01mFalse\u001B[39;49;00m\u001B[43m,\u001B[49m\u001B[43mdropnan\u001B[49m\u001B[38;5;241;43m=\u001B[39;49m\u001B[38;5;28;43;01mFalse\u001B[39;49;00m\u001B[43m)\u001B[49m,end\u001B[38;5;241m=\u001B[39m\u001B[38;5;124m'\u001B[39m\u001B[38;5;130;01m\\n\u001B[39;00m\u001B[38;5;130;01m\\n\u001B[39;00m\u001B[38;5;124m'\u001B[39m)\n\u001B[0;32m      2\u001B[0m \u001B[38;5;28mprint\u001B[39m(df5\u001B[38;5;241m.\u001B[39mdrop_duplicates(subset\u001B[38;5;241m=\u001B[39m[\u001B[38;5;124m'\u001B[39m\u001B[38;5;124mname\u001B[39m\u001B[38;5;124m'\u001B[39m,\u001B[38;5;124m'\u001B[39m\u001B[38;5;124mK\u001B[39m\u001B[38;5;124m'\u001B[39m],keep\u001B[38;5;241m=\u001B[39m\u001B[38;5;28;01mFalse\u001B[39;00m))\n",
      "\u001B[1;31mTypeError\u001B[0m: drop_duplicates() got an unexpected keyword argument 'dropnan'"
     ]
    }
   ],
   "source": [
    "print(df5.drop_duplicates(subset=['K'],keep=False,dropnan=False),end='\\n\\n')\n",
    "print(df5.drop_duplicates(subset=['name','K'],keep=False))"
   ]
  },
  {
   "cell_type": "code",
   "execution_count": 204,
   "metadata": {},
   "outputs": [
    {
     "name": "stdout",
     "output_type": "stream",
     "text": [
      "  company  salary  age\n",
      "0       A      11   21\n",
      "1       B      13   27\n",
      "2       C      11   27\n",
      "3       C      10   23\n",
      "4       B      17   26\n",
      "5       A      14   22\n",
      "6       B      16   29\n"
     ]
    }
   ],
   "source": [
    "dic6={\n",
    "    'company':['A','B','C','C','B','A','B'],\n",
    "    'salary':[11,13,11,10,17,14,16],\n",
    "    'age':[21,27,27,23,26,22,29]\n",
    "}\n",
    "df6=pd.DataFrame(data=dic6)\n",
    "print(df6)"
   ]
  },
  {
   "cell_type": "code",
   "execution_count": 227,
   "metadata": {},
   "outputs": [
    {
     "name": "stdout",
     "output_type": "stream",
     "text": [
      "A \n",
      " 0    A\n",
      "5    A\n",
      "Name: company, dtype: object\n",
      "B \n",
      " 1    B\n",
      "4    B\n",
      "6    B\n",
      "Name: company, dtype: object\n",
      "C \n",
      " 2    C\n",
      "3    C\n",
      "Name: company, dtype: object\n"
     ]
    }
   ],
   "source": [
    "temp1 = df6.groupby(['company'],sort=False,as_index=False)\n",
    "for i,e in temp1['company']:\n",
    "    print(i,'\\n',e,end='\\n')"
   ]
  },
  {
   "cell_type": "code",
   "execution_count": 229,
   "metadata": {},
   "outputs": [
    {
     "data": {
      "text/html": [
       "<div>\n",
       "<style scoped>\n",
       "    .dataframe tbody tr th:only-of-type {\n",
       "        vertical-align: middle;\n",
       "    }\n",
       "\n",
       "    .dataframe tbody tr th {\n",
       "        vertical-align: top;\n",
       "    }\n",
       "\n",
       "    .dataframe thead th {\n",
       "        text-align: right;\n",
       "    }\n",
       "</style>\n",
       "<table border=\"1\" class=\"dataframe\">\n",
       "  <thead>\n",
       "    <tr style=\"text-align: right;\">\n",
       "      <th></th>\n",
       "      <th>company</th>\n",
       "      <th>max</th>\n",
       "      <th>min</th>\n",
       "      <th>mean</th>\n",
       "      <th>var</th>\n",
       "      <th>sum</th>\n",
       "    </tr>\n",
       "  </thead>\n",
       "  <tbody>\n",
       "    <tr>\n",
       "      <th>0</th>\n",
       "      <td>A</td>\n",
       "      <td>22</td>\n",
       "      <td>21</td>\n",
       "      <td>21.500000</td>\n",
       "      <td>0.500000</td>\n",
       "      <td>43</td>\n",
       "    </tr>\n",
       "    <tr>\n",
       "      <th>1</th>\n",
       "      <td>B</td>\n",
       "      <td>29</td>\n",
       "      <td>26</td>\n",
       "      <td>27.333333</td>\n",
       "      <td>2.333333</td>\n",
       "      <td>82</td>\n",
       "    </tr>\n",
       "    <tr>\n",
       "      <th>2</th>\n",
       "      <td>C</td>\n",
       "      <td>27</td>\n",
       "      <td>23</td>\n",
       "      <td>25.000000</td>\n",
       "      <td>8.000000</td>\n",
       "      <td>50</td>\n",
       "    </tr>\n",
       "  </tbody>\n",
       "</table>\n",
       "</div>"
      ],
      "text/plain": [
       "  company  max  min       mean       var  sum\n",
       "0       A   22   21  21.500000  0.500000   43\n",
       "1       B   29   26  27.333333  2.333333   82\n",
       "2       C   27   23  25.000000  8.000000   50"
      ]
     },
     "execution_count": 229,
     "metadata": {},
     "output_type": "execute_result"
    }
   ],
   "source": [
    "temp1['age'].agg(['max','min','mean','var','sum'])"
   ]
  },
  {
   "cell_type": "code",
   "execution_count": 242,
   "metadata": {},
   "outputs": [
    {
     "name": "stdout",
     "output_type": "stream",
     "text": [
      "0    21.500000\n",
      "1    27.333333\n",
      "2    25.000000\n",
      "3    25.000000\n",
      "4    27.333333\n",
      "5    21.500000\n",
      "6    27.333333\n",
      "Name: age, dtype: float64\n"
     ]
    }
   ],
   "source": [
    "temp2=temp1['age'].transform('mean')\n",
    "print(temp2)"
   ]
  },
  {
   "cell_type": "code",
   "execution_count": 243,
   "metadata": {},
   "outputs": [
    {
     "name": "stdout",
     "output_type": "stream",
     "text": [
      "  company  salary  age       mean\n",
      "0       A      11   21  21.500000\n",
      "1       B      13   27  27.333333\n",
      "2       C      11   27  25.000000\n",
      "3       C      10   23  25.000000\n",
      "4       B      17   26  27.333333\n",
      "5       A      14   22  21.500000\n",
      "6       B      16   29  27.333333\n"
     ]
    }
   ],
   "source": [
    "df6['mean']=temp2\n",
    "print(df6)"
   ]
  },
  {
   "cell_type": "code",
   "execution_count": 252,
   "metadata": {},
   "outputs": [
    {
     "data": {
      "text/html": [
       "<div>\n",
       "<style scoped>\n",
       "    .dataframe tbody tr th:only-of-type {\n",
       "        vertical-align: middle;\n",
       "    }\n",
       "\n",
       "    .dataframe tbody tr th {\n",
       "        vertical-align: top;\n",
       "    }\n",
       "\n",
       "    .dataframe thead th {\n",
       "        text-align: right;\n",
       "    }\n",
       "</style>\n",
       "<table border=\"1\" class=\"dataframe\">\n",
       "  <thead>\n",
       "    <tr style=\"text-align: right;\">\n",
       "      <th></th>\n",
       "      <th>company</th>\n",
       "      <th>salary</th>\n",
       "    </tr>\n",
       "    <tr>\n",
       "      <th>age</th>\n",
       "      <th></th>\n",
       "      <th></th>\n",
       "    </tr>\n",
       "  </thead>\n",
       "  <tbody>\n",
       "    <tr>\n",
       "      <th>21</th>\n",
       "      <td>A</td>\n",
       "      <td>11</td>\n",
       "    </tr>\n",
       "    <tr>\n",
       "      <th>22</th>\n",
       "      <td>A</td>\n",
       "      <td>14</td>\n",
       "    </tr>\n",
       "    <tr>\n",
       "      <th>23</th>\n",
       "      <td>C</td>\n",
       "      <td>10</td>\n",
       "    </tr>\n",
       "    <tr>\n",
       "      <th>26</th>\n",
       "      <td>B</td>\n",
       "      <td>17</td>\n",
       "    </tr>\n",
       "    <tr>\n",
       "      <th>27</th>\n",
       "      <td>B</td>\n",
       "      <td>13</td>\n",
       "    </tr>\n",
       "    <tr>\n",
       "      <th>29</th>\n",
       "      <td>B</td>\n",
       "      <td>16</td>\n",
       "    </tr>\n",
       "  </tbody>\n",
       "</table>\n",
       "</div>"
      ],
      "text/plain": [
       "    company  salary\n",
       "age                \n",
       "21        A      11\n",
       "22        A      14\n",
       "23        C      10\n",
       "26        B      17\n",
       "27        B      13\n",
       "29        B      16"
      ]
     },
     "execution_count": 252,
     "metadata": {},
     "output_type": "execute_result"
    }
   ],
   "source": [
    "def seeData(data):\n",
    "    # by:排序的列名\n",
    "    # ascending:使用升序排序True/False\n",
    "    # na_position:last,first,nan值排序的位置\n",
    "    df=data.sort_values(by='age', ascending=False, na_position='last')\n",
    "    return df.iloc[0,[0,1]]\n",
    "    # .iloc[0,:]去除第一列\n",
    "df6.groupby(['age']).apply(seeData)"
   ]
  },
  {
   "cell_type": "code",
   "execution_count": 263,
   "metadata": {},
   "outputs": [
    {
     "name": "stdout",
     "output_type": "stream",
     "text": [
      "     K  name\n",
      "0  NaN  Zong\n",
      "1    X  Kong\n",
      "2  NaN   NaN\n",
      "3  NaN  Ling\n",
      "4  NaN    Yu\n",
      "5  NaN  Yang\n",
      "\n",
      "2     NaN\n",
      "3    Ling\n",
      "4      Yu\n",
      "5    Yang\n",
      "Name: name, dtype: object\n"
     ]
    }
   ],
   "source": [
    "print(df4[['K','name']],end='\\n\\n')\n",
    "print(df4.iloc[2:]['name'])"
   ]
  },
  {
   "cell_type": "code",
   "execution_count": 271,
   "metadata": {},
   "outputs": [],
   "source": [
    "df2[3]=['mi',17,176.0]"
   ]
  },
  {
   "cell_type": "code",
   "execution_count": 273,
   "metadata": {},
   "outputs": [
    {
     "data": {
      "text/html": [
       "<div>\n",
       "<style scoped>\n",
       "    .dataframe tbody tr th:only-of-type {\n",
       "        vertical-align: middle;\n",
       "    }\n",
       "\n",
       "    .dataframe tbody tr th {\n",
       "        vertical-align: top;\n",
       "    }\n",
       "\n",
       "    .dataframe thead th {\n",
       "        text-align: right;\n",
       "    }\n",
       "</style>\n",
       "<table border=\"1\" class=\"dataframe\">\n",
       "  <thead>\n",
       "    <tr style=\"text-align: right;\">\n",
       "      <th></th>\n",
       "      <th>0</th>\n",
       "      <th>1</th>\n",
       "      <th>2</th>\n",
       "      <th>4</th>\n",
       "      <th>3</th>\n",
       "    </tr>\n",
       "  </thead>\n",
       "  <tbody>\n",
       "    <tr>\n",
       "      <th>0</th>\n",
       "      <td>Mo</td>\n",
       "      <td>Ling</td>\n",
       "      <td>Yu</td>\n",
       "      <td>yang</td>\n",
       "      <td>mi</td>\n",
       "    </tr>\n",
       "    <tr>\n",
       "      <th>1</th>\n",
       "      <td>16</td>\n",
       "      <td>18</td>\n",
       "      <td>15</td>\n",
       "      <td>16</td>\n",
       "      <td>17</td>\n",
       "    </tr>\n",
       "    <tr>\n",
       "      <th>2</th>\n",
       "      <td>170.0</td>\n",
       "      <td>171.0</td>\n",
       "      <td>165.0</td>\n",
       "      <td>188.0</td>\n",
       "      <td>176.0</td>\n",
       "    </tr>\n",
       "    <tr>\n",
       "      <th>0</th>\n",
       "      <td>5</td>\n",
       "      <td>5</td>\n",
       "      <td>6</td>\n",
       "      <td>5</td>\n",
       "      <td>5</td>\n",
       "    </tr>\n",
       "  </tbody>\n",
       "</table>\n",
       "</div>"
      ],
      "text/plain": [
       "       0      1      2      4      3\n",
       "0     Mo   Ling     Yu   yang     mi\n",
       "1     16     18     15     16     17\n",
       "2  170.0  171.0  165.0  188.0  176.0\n",
       "0      5      5      6      5      5"
      ]
     },
     "execution_count": 273,
     "metadata": {},
     "output_type": "execute_result"
    }
   ],
   "source": [
    "df2._append([[5,5,6,5,5]])"
   ]
  },
  {
   "cell_type": "code",
   "execution_count": 65,
   "metadata": {},
   "outputs": [
    {
     "name": "stdout",
     "output_type": "stream",
     "text": [
      "   name  age_x  height_x    K  age_y  height_y\n",
      "0  Zong   61.0     172.0  NaN   61.0     172.0\n",
      "1  Kong   99.0     170.0    X    NaN       NaN\n",
      "2    Mo    NaN       NaN  NaN   16.0     170.0\n",
      "3  Ling    NaN       NaN  NaN   18.0     171.0\n",
      "4    Yu    NaN       NaN  NaN   15.0     165.0\n",
      "5  Yang    NaN       NaN  NaN   24.0     173.0\n",
      "\n",
      "   name  age_x  height_x    K  age_y  height_y\n",
      "0  Zong   61.0     172.0  NaN   61.0     172.0\n",
      "2    Mo    NaN       NaN  NaN   16.0     170.0\n",
      "3  Ling    NaN       NaN  NaN   18.0     171.0\n",
      "4    Yu    NaN       NaN  NaN   15.0     165.0\n",
      "5  Yang    NaN       NaN  NaN   24.0     173.0\n",
      "\n"
     ]
    },
    {
     "data": {
      "text/html": [
       "<div>\n",
       "<style scoped>\n",
       "    .dataframe tbody tr th:only-of-type {\n",
       "        vertical-align: middle;\n",
       "    }\n",
       "\n",
       "    .dataframe tbody tr th {\n",
       "        vertical-align: top;\n",
       "    }\n",
       "\n",
       "    .dataframe thead th {\n",
       "        text-align: right;\n",
       "    }\n",
       "</style>\n",
       "<table border=\"1\" class=\"dataframe\">\n",
       "  <thead>\n",
       "    <tr style=\"text-align: right;\">\n",
       "      <th></th>\n",
       "      <th>name</th>\n",
       "      <th>age_x</th>\n",
       "      <th>height_x</th>\n",
       "      <th>K</th>\n",
       "      <th>age_y</th>\n",
       "      <th>height_y</th>\n",
       "    </tr>\n",
       "  </thead>\n",
       "  <tbody>\n",
       "    <tr>\n",
       "      <th>0</th>\n",
       "      <td>Zong</td>\n",
       "      <td>61.0</td>\n",
       "      <td>172.0</td>\n",
       "      <td>NaN</td>\n",
       "      <td>61.0</td>\n",
       "      <td>172.0</td>\n",
       "    </tr>\n",
       "    <tr>\n",
       "      <th>1</th>\n",
       "      <td>Kong</td>\n",
       "      <td>99.0</td>\n",
       "      <td>170.0</td>\n",
       "      <td>X</td>\n",
       "      <td>26.8</td>\n",
       "      <td>170.2</td>\n",
       "    </tr>\n",
       "    <tr>\n",
       "      <th>2</th>\n",
       "      <td>Mo</td>\n",
       "      <td>80.0</td>\n",
       "      <td>171.0</td>\n",
       "      <td>NaN</td>\n",
       "      <td>16.0</td>\n",
       "      <td>170.0</td>\n",
       "    </tr>\n",
       "    <tr>\n",
       "      <th>3</th>\n",
       "      <td>Ling</td>\n",
       "      <td>80.0</td>\n",
       "      <td>171.0</td>\n",
       "      <td>NaN</td>\n",
       "      <td>18.0</td>\n",
       "      <td>171.0</td>\n",
       "    </tr>\n",
       "    <tr>\n",
       "      <th>4</th>\n",
       "      <td>Yu</td>\n",
       "      <td>80.0</td>\n",
       "      <td>171.0</td>\n",
       "      <td>NaN</td>\n",
       "      <td>15.0</td>\n",
       "      <td>165.0</td>\n",
       "    </tr>\n",
       "    <tr>\n",
       "      <th>5</th>\n",
       "      <td>Yang</td>\n",
       "      <td>80.0</td>\n",
       "      <td>171.0</td>\n",
       "      <td>NaN</td>\n",
       "      <td>24.0</td>\n",
       "      <td>173.0</td>\n",
       "    </tr>\n",
       "  </tbody>\n",
       "</table>\n",
       "</div>"
      ],
      "text/plain": [
       "   name  age_x  height_x    K  age_y  height_y\n",
       "0  Zong   61.0     172.0  NaN   61.0     172.0\n",
       "1  Kong   99.0     170.0    X   26.8     170.2\n",
       "2    Mo   80.0     171.0  NaN   16.0     170.0\n",
       "3  Ling   80.0     171.0  NaN   18.0     171.0\n",
       "4    Yu   80.0     171.0  NaN   15.0     165.0\n",
       "5  Yang   80.0     171.0  NaN   24.0     173.0"
      ]
     },
     "execution_count": 65,
     "metadata": {},
     "output_type": "execute_result"
    }
   ],
   "source": [
    "print(df4,end='\\n\\n')\n",
    "print(df4.dropna(axis=0,subset=['age_y']),end='\\n\\n')\n",
    "df4[['age_y']].mean(axis=0)\n",
    "filldict={str(key):df4[key].mean(axis=0) if(np.dtype(df4[key])==np.float64) else np.nan for key in df4.columns}\n",
    "\n",
    "# filldict={str(key):np.dtype(df4[key])==np.float64 for key in df4.columns}\n",
    "# filldic={key:df4[key].mean(axis=0) for key in filldic if filldic[key]}\n",
    "\n",
    "df4.fillna(filldict)\n",
    "# fillna(method,limit)"
   ]
  },
  {
   "cell_type": "code",
   "execution_count": 54,
   "metadata": {},
   "outputs": [
    {
     "data": {
      "text/plain": [
       "77"
      ]
     },
     "execution_count": 54,
     "metadata": {},
     "output_type": "execute_result"
    }
   ],
   "source": [
    "99 if (4>99) else 77"
   ]
  },
  {
   "cell_type": "code",
   "execution_count": null,
   "metadata": {},
   "outputs": [],
   "source": []
  },
  {
   "cell_type": "code",
   "execution_count": null,
   "metadata": {},
   "outputs": [],
   "source": []
  }
 ],
 "metadata": {
  "kernelspec": {
   "display_name": "Python 3 (ipykernel)",
   "language": "python",
   "name": "python3"
  },
  "language_info": {
   "codemirror_mode": {
    "name": "ipython",
    "version": 3
   },
   "file_extension": ".py",
   "mimetype": "text/x-python",
   "name": "python",
   "nbconvert_exporter": "python",
   "pygments_lexer": "ipython3",
   "version": "3.8.17"
  }
 },
 "nbformat": 4,
 "nbformat_minor": 1
}
