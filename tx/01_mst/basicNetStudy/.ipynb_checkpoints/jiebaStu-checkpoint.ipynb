{
 "cells": [
  {
   "cell_type": "code",
   "execution_count": 32,
   "metadata": {
    "pycharm": {
     "is_executing": true
    }
   },
   "outputs": [],
   "source": [
    "import jieba\n",
    "import jieba.analyse"
   ]
  },
  {
   "cell_type": "code",
   "execution_count": 3,
   "metadata": {},
   "outputs": [
    {
     "name": "stderr",
     "output_type": "stream",
     "text": [
      "Building prefix dict from the default dictionary ...\n",
      "Dumping model to file cache C:\\Users\\ASUS\\AppData\\Local\\Temp\\jieba.cache\n",
      "Loading model cost 0.958 seconds.\n",
      "Prefix dict has been built successfully.\n"
     ]
    }
   ],
   "source": [
    "jieba.initialize()"
   ]
  },
  {
   "cell_type": "code",
   "execution_count": 38,
   "metadata": {},
   "outputs": [],
   "source": [
    "wordTxs = 'You are using an old or corrupted version of IDM, please update IDM to the latest version using \"Help->Check for updates...\" menu item.If you cannot update IDM using \"Help->Check for updates...\" menu item, then you are not using a genuine copy of IDM!Please find below what you need to know about non genuine or cracked versions of IDM:1. First of all it is illegal. It is called software piracy, and it is the same as stealing. If you are caught, it may lead to years of imprisonment in many countries.2. Cracked IDM versions and patches contain viruses and trojan programs. Note that hackers do not crack programs for free. They inject they own tools and turn the computers of users into zombies which send spam. Also hackers use these computer for all their illegal activities. You may send all patches and cracks to virustotal.com to verify it.3. Modified and cracked versions of IDM work unstable. They freeze, crash, download files with errors, and may hang up computers.4. We don not offer any support for cracked versions of IDM, also all updates for cracked versions are disabled.Now you need to repair your installation of IDM:Download the latest version of IDMInstall the downloaded version of IDM over your current version to repair it!You may register Internet Download Manager for a special price.'"
   ]
  },
  {
   "cell_type": "code",
   "execution_count": 10,
   "metadata": {},
   "outputs": [
    {
     "name": "stdout",
     "output_type": "stream",
     "text": [
      "全局模式:\t 我/爱/铃/，/我/要/爆发/，/我/的/一生/只为/铃\n"
     ]
    }
   ],
   "source": [
    "words = '我爱铃，我要爆发，我的一生只为铃'\n",
    "seg_a = jieba.cut(words,cut_all=True)\n",
    "print('全局模式:\\t','/'.join(seg_a))"
   ]
  },
  {
   "cell_type": "code",
   "execution_count": 19,
   "metadata": {},
   "outputs": [
    {
     "name": "stdout",
     "output_type": "stream",
     "text": [
      "精确模式:\t 我爱铃/，/我要/爆发/，/我/的/一生/只为/铃\n"
     ]
    }
   ],
   "source": [
    "seg_b = jieba.cut(words)\n",
    "print('精确模式:\\t','/'.join(seg_b))"
   ]
  },
  {
   "cell_type": "code",
   "execution_count": 12,
   "metadata": {},
   "outputs": [
    {
     "name": "stdout",
     "output_type": "stream",
     "text": [
      "搜索引擎模式:\t 我爱铃/，/我要/爆发/，/我/的/一生/只为/铃\n"
     ]
    }
   ],
   "source": [
    "seg_c = jieba.cut_for_search(words)\n",
    "print('搜索引擎模式:\\t','/'.join(seg_c))"
   ]
  },
  {
   "cell_type": "code",
   "execution_count": 20,
   "metadata": {},
   "outputs": [
    {
     "name": "stdout",
     "output_type": "stream",
     "text": [
      "我爱铃\n",
      "，\n",
      "我要\n",
      "爆发\n",
      "，\n",
      "我\n",
      "的\n",
      "一生\n",
      "只为\n",
      "铃\n"
     ]
    }
   ],
   "source": [
    "seg_b = jieba.cut(words)\n",
    "for i in seg_b:\n",
    "    print(i)"
   ]
  },
  {
   "cell_type": "code",
   "execution_count": 30,
   "metadata": {},
   "outputs": [
    {
     "data": {
      "text/plain": [
       "['我爱铃', '，', '我', '要', '爆发', '，', '我', '的', '一生只为', '铃']"
      ]
     },
     "execution_count": 30,
     "metadata": {},
     "output_type": "execute_result"
    }
   ],
   "source": [
    "seg_b = jieba.cut(words,HMM=True)\n",
    "list(seg_b)# yeild对象"
   ]
  },
  {
   "cell_type": "code",
   "execution_count": 31,
   "metadata": {},
   "outputs": [
    {
     "data": {
      "text/plain": [
       "['我爱铃', '，', '我', '要', '爆发', '，', '我', '的', '一生只为', '铃']"
      ]
     },
     "execution_count": 31,
     "metadata": {},
     "output_type": "execute_result"
    }
   ],
   "source": [
    "seg_d = jieba.lcut(words)\n",
    "seg_d"
   ]
  },
  {
   "cell_type": "code",
   "execution_count": 24,
   "metadata": {},
   "outputs": [],
   "source": [
    "jieba.add_word('一生只为')"
   ]
  },
  {
   "cell_type": "code",
   "execution_count": 26,
   "metadata": {},
   "outputs": [],
   "source": [
    "jieba.del_word('我要')"
   ]
  },
  {
   "cell_type": "code",
   "execution_count": 39,
   "metadata": {},
   "outputs": [
    {
     "data": {
      "text/plain": [
       "[('IDM', 0.7864978620328946),\n",
       " ('version', 0.3932489310164473),\n",
       " ('versions', 0.3932489310164473),\n",
       " ('using', 0.31459914481315787),\n",
       " ('cracked', 0.31459914481315787),\n",
       " ('may', 0.31459914481315787),\n",
       " ('updates', 0.2359493586098684),\n",
       " ('update', 0.15729957240657894),\n",
       " ('latest', 0.15729957240657894),\n",
       " ('Help', 0.15729957240657894)]"
      ]
     },
     "execution_count": 39,
     "metadata": {},
     "output_type": "execute_result"
    }
   ],
   "source": [
    "jieba.analyse.extract_tags(wordTxs,topK=10,withWeight=True)"
   ]
  },
  {
   "cell_type": "code",
   "execution_count": null,
   "metadata": {},
   "outputs": [],
   "source": []
  }
 ],
 "metadata": {
  "kernelspec": {
   "display_name": "Python 3 (ipykernel)",
   "language": "python",
   "name": "python3"
  },
  "language_info": {
   "codemirror_mode": {
    "name": "ipython",
    "version": 3
   },
   "file_extension": ".py",
   "mimetype": "text/x-python",
   "name": "python",
   "nbconvert_exporter": "python",
   "pygments_lexer": "ipython3",
   "version": "3.8.17"
  }
 },
 "nbformat": 4,
 "nbformat_minor": 1
}
