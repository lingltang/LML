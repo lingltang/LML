{
 "cells": [
  {
   "cell_type": "code",
   "execution_count": 1,
   "metadata": {
    "collapsed": true
   },
   "outputs": [],
   "source": [
    "import numpy as np\n",
    "import torch.nn as nn\n",
    "import pandas as pd"
   ]
  },
  {
   "cell_type": "code",
   "execution_count": 2,
   "metadata": {},
   "outputs": [],
   "source": [
    "# 标点符号如何处理\n",
    "# 1、删除\n",
    "# 2、将所有标点符号转换为一个标签值\n",
    "\n",
    "# 不存在词典中的词\n",
    "# 1、删除\n",
    "# 2、将所有未知单词替换为一个标签值\n",
    "# 3、分桶[hash]\n",
    "\n",
    "# 数字如何处理\n",
    "# 1、根据场景单独处理为标签值\n",
    "\n",
    "# 错别字，同音字\n",
    "# 1、转化为拼音输入"
   ]
  },
  {
   "cell_type": "code",
   "execution_count": 3,
   "metadata": {},
   "outputs": [],
   "source": [
    "# 模型\n",
    "# 输入x：[N, T]\n",
    "# N个样本长度的单词id向量\n",
    "# eg:\n",
    "#     [\n",
    "#          [24,56,33,485,3,0],\n",
    "#          [99,55,5,656,46,465],\n",
    "#          [5,46,56,0,0,0]\n",
    "#     ]\n",
    "# length:\n",
    "#     [4,6,3]\n",
    "# 输出y：[N, 2]或[N]"
   ]
  },
  {
   "cell_type": "code",
   "execution_count": null,
   "metadata": {},
   "outputs": [],
   "source": []
  }
 ],
 "metadata": {
  "kernelspec": {
   "display_name": "Python 3 (ipykernel)",
   "language": "python",
   "name": "python3"
  },
  "language_info": {
   "codemirror_mode": {
    "name": "ipython",
    "version": 3
   },
   "file_extension": ".py",
   "mimetype": "text/x-python",
   "name": "python",
   "nbconvert_exporter": "python",
   "pygments_lexer": "ipython3",
   "version": "3.8.16"
  }
 },
 "nbformat": 4,
 "nbformat_minor": 1
}
