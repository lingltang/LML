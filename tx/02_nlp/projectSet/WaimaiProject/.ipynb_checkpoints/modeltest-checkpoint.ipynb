{
 "cells": [
  {
   "cell_type": "code",
   "execution_count": 18,
   "metadata": {},
   "outputs": [],
   "source": [
    "import numpy as np\n",
    "import torch\n",
    "from torch.nn import modules as nn\n",
    "import pandas as pd"
   ]
  },
  {
   "cell_type": "code",
   "execution_count": 2,
   "metadata": {},
   "outputs": [],
   "source": [
    "# 标点符号如何处理\n",
    "# 1、删除\n",
    "# 2、将所有标点符号转换为一个标签值\n",
    "\n",
    "# 不存在词典中的词\n",
    "# 1、删除\n",
    "# 2、将所有未知单词替换为一个标签值\n",
    "# 3、分桶[hash]\n",
    "\n",
    "# 数字如何处理\n",
    "# 1、根据场景单独处理为标签值\n",
    "\n",
    "# 错别字，同音字\n",
    "# 1、转化为拼音输入"
   ]
  },
  {
   "cell_type": "code",
   "execution_count": 3,
   "metadata": {},
   "outputs": [],
   "source": [
    "# 模型\n",
    "# 输入x：[N, T]\n",
    "# N个样本长度的单词id向量\n",
    "# eg:\n",
    "#     [\n",
    "#          [24,56,33,485,3,0],\n",
    "#          [99,55,5,656,46,465],\n",
    "#          [5,46,56,0,0,0]\n",
    "#     ]\n",
    "# length:\n",
    "#     [4,6,3]\n",
    "# 输出y：[N, 2]或[N]"
   ]
  },
  {
   "cell_type": "code",
   "execution_count": 20,
   "metadata": {},
   "outputs": [],
   "source": [
    "n = 10000\n",
    "x0 = torch.tensor([1,2,3,4,5,6])\n",
    "x1 = torch.nn.functional.one_hot(x0,n).float()\n",
    "x2 = nn.Linear(n,2,bias=False)(x1)"
   ]
  },
  {
   "cell_type": "code",
   "execution_count": 24,
   "metadata": {},
   "outputs": [
    {
     "name": "stdout",
     "output_type": "stream",
     "text": [
      "<built-in method float of Tensor object at 0x000001949008D900>\n",
      "Linear(in_features=10000, out_features=2, bias=False)\n"
     ]
    }
   ],
   "source": [
    "print(x1)\n",
    "print(x2)"
   ]
  },
  {
   "cell_type": "code",
   "execution_count": 27,
   "metadata": {},
   "outputs": [
    {
     "data": {
      "text/plain": [
       "builtin_function_or_method"
      ]
     },
     "execution_count": 27,
     "metadata": {},
     "output_type": "execute_result"
    }
   ],
   "source": []
  },
  {
   "cell_type": "code",
   "execution_count": null,
   "metadata": {},
   "outputs": [],
   "source": []
  }
 ],
 "metadata": {
  "kernelspec": {
   "display_name": "Python 3 (ipykernel)",
   "language": "python",
   "name": "python3"
  },
  "language_info": {
   "codemirror_mode": {
    "name": "ipython",
    "version": 3
   },
   "file_extension": ".py",
   "mimetype": "text/x-python",
   "name": "python",
   "nbconvert_exporter": "python",
   "pygments_lexer": "ipython3",
   "version": "3.8.16"
  }
 },
 "nbformat": 4,
 "nbformat_minor": 1
}
