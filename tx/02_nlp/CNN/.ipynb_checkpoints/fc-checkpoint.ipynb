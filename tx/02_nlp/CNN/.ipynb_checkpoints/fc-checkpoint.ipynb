{
 "cells": [
  {
   "cell_type": "code",
   "execution_count": 28,
   "metadata": {},
   "outputs": [],
   "source": [
    "import matplotlib\n",
    "import numpy as np\n",
    "import torch\n",
    "import torch.nn as nn"
   ]
  },
  {
   "cell_type": "code",
   "execution_count": 29,
   "metadata": {},
   "outputs": [],
   "source": [
    "from sklearn.datasets import make_classification\n",
    "from sklearn.model_selection import train_test_split\n",
    "x,y = make_classification(n_samples=1000, n_classes=2, n_features=10)\n",
    "n_features=10\n",
    "n_classes=2\n",
    "x_train, x_text, y_train, y_text = train_test_split(x,y,test_size=0.2)"
   ]
  },
  {
   "cell_type": "code",
   "execution_count": 41,
   "metadata": {},
   "outputs": [],
   "source": [
    "\n",
    "class NetWork(nn.Module):\n",
    "    def __init__(self,n_features, n_classes, hiddens):\n",
    "        super(NetWork, self).__init__()\n",
    "        layers = []\n",
    "        ni = n_features\n",
    "        for i in hiddens:\n",
    "            print('ni=',ni,',hidden=',i)\n",
    "            layer = nn.Linear(in_features=ni, out_features=i)\n",
    "            layers.append(layer)\n",
    "            layers.append(nn.ReLU())\n",
    "            ni = i\n",
    "        layer = nn.Linear(in_features=ni, out_features=n_classes)# 输出层，各个类别的置信度\n",
    "        layers.append(layer)\n",
    "        self.model = nn.Sequential(*layers)\n",
    "        \n",
    "    def forward(self, x):\n",
    "        return self.model(x)"
   ]
  },
  {
   "cell_type": "code",
   "execution_count": 46,
   "metadata": {
    "scrolled": false
   },
   "outputs": [
    {
     "name": "stdout",
     "output_type": "stream",
     "text": [
      "ni= 10 ,hidden= 20\n",
      "ni= 20 ,hidden= 30\n",
      "NetWork(\n",
      "  (model): Sequential(\n",
      "    (0): Linear(in_features=10, out_features=20, bias=True)\n",
      "    (1): ReLU()\n",
      "    (2): Linear(in_features=20, out_features=30, bias=True)\n",
      "    (3): ReLU()\n",
      "    (4): Linear(in_features=30, out_features=2, bias=True)\n",
      "  )\n",
      ")\n"
     ]
    }
   ],
   "source": [
    "# 网络构建\n",
    "model = NetWork(n_features=n_features, n_classes=n_classes, hiddens=[20,30])\n",
    "print(model)\n",
    "# x = torch.rand(32, n_features)\n",
    "# y = model(x)\n",
    "# print(y.shape)\n",
    "# print(y)"
   ]
  },
  {
   "cell_type": "code",
   "execution_count": null,
   "metadata": {},
   "outputs": [],
   "source": [
    "# 网络训练\n"
   ]
  },
  {
   "cell_type": "code",
   "execution_count": null,
   "metadata": {},
   "outputs": [],
   "source": [
    "# 网络持久化\n"
   ]
  }
 ],
 "metadata": {
  "kernelspec": {
   "display_name": "Python 3 (ipykernel)",
   "language": "python",
   "name": "python3"
  },
  "language_info": {
   "codemirror_mode": {
    "name": "ipython",
    "version": 3
   },
   "file_extension": ".py",
   "mimetype": "text/x-python",
   "name": "python",
   "nbconvert_exporter": "python",
   "pygments_lexer": "ipython3",
   "version": "3.8.16"
  }
 },
 "nbformat": 4,
 "nbformat_minor": 1
}
