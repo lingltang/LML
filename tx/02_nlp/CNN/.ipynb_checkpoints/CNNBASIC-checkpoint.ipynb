{
 "cells": [
  {
   "cell_type": "code",
   "execution_count": 16,
   "metadata": {
    "pycharm": {
     "is_executing": true
    }
   },
   "outputs": [],
   "source": [
    "import torch\n",
    "import torch.nn as nn\n",
    "import numpy as np"
   ]
  },
  {
   "cell_type": "code",
   "execution_count": 17,
   "metadata": {},
   "outputs": [
    {
     "name": "stdout",
     "output_type": "stream",
     "text": [
      "torch.Size([7, 10, 4])\n"
     ]
    }
   ],
   "source": [
    "cell = nn.RNNCell(input_size=3,hidden_size=4)\n",
    "input_features = torch.randn(7,10,3)\n",
    "output_features = []\n",
    "h = None\n",
    "T = input_features.shape[0]\n",
    "for i in range(T):\n",
    "    x = input_features[i]\n",
    "    h = cell(x,h)\n",
    "    output_features.append(h)\n",
    "y = torch.vstack([t[None, ...] for t in output_features])\n",
    "print(y.shape)\n",
    "# x = torch.randn(10,3)\n",
    "# y = cell(x)\n",
    "# print(y)"
   ]
  },
  {
   "cell_type": "code",
   "execution_count": 28,
   "metadata": {},
   "outputs": [
    {
     "name": "stdout",
     "output_type": "stream",
     "text": [
      "torch.Size([7, 10, 8]) torch.Size([6, 10, 4])\n"
     ]
    }
   ],
   "source": [
    "# 层数、批次是否为首个、是否为双向RNN\n",
    "rnn = nn.RNN(input_size=3,hidden_size=4,num_layers=3,batch_first=False,bidirectional=True)\n",
    "y,h=rnn(input_features)\n",
    "print(y.shape,h.shape)"
   ]
  },
  {
   "cell_type": "code",
   "execution_count": 34,
   "metadata": {},
   "outputs": [
    {
     "name": "stdout",
     "output_type": "stream",
     "text": [
      "torch.Size([6, 1, 2])\n",
      "torch.Size([6, 1, 2])\n",
      "tensor([[[0., 0.]],\n",
      "\n",
      "        [[0., 0.]],\n",
      "\n",
      "        [[0., 0.]],\n",
      "\n",
      "        [[0., 0.]],\n",
      "\n",
      "        [[0., 0.]],\n",
      "\n",
      "        [[0., 0.]]])\n"
     ]
    }
   ],
   "source": [
    "# 测试\n",
    "a = torch.randn(3,1,2)\n",
    "b = torch.randn(3,1,2)\n",
    "# c = torch.randn(1,1,2)\n",
    "print(torch.vstack([a,b]).shape)\n",
    "print(torch.concat([a,b],0).shape)\n",
    "print(torch.vstack([a,b])-torch.concat([a,b],0))"
   ]
  },
  {
   "cell_type": "code",
   "execution_count": null,
   "metadata": {},
   "outputs": [],
   "source": []
  }
 ],
 "metadata": {
  "kernelspec": {
   "display_name": "Python 3 (ipykernel)",
   "language": "python",
   "name": "python3"
  },
  "language_info": {
   "codemirror_mode": {
    "name": "ipython",
    "version": 3
   },
   "file_extension": ".py",
   "mimetype": "text/x-python",
   "name": "python",
   "nbconvert_exporter": "python",
   "pygments_lexer": "ipython3",
   "version": "3.8.16"
  }
 },
 "nbformat": 4,
 "nbformat_minor": 1
}
